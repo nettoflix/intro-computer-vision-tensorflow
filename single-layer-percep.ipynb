{
 "cells": [
  {
   "cell_type": "markdown",
   "metadata": {},
   "source": [
    "In computer vision, we normally solve one of the following problems:\n",
    "\n",
    "* Image Classification is the simplest task, when we need to classify an image into one of many pre-defined categories, for example, distinguish a cat from a dog on a photograph, or recognize a handwritten digit.\n",
    "\n",
    "* Object Detection is a bit more difficult task, in which we need to find known objects on the picture and localize them, i.e. return the bounding box for each of recognized objects.\n",
    "\n",
    "* Segmentation is similar to object detection, but instead of giving bounding box we need to return an exact pixel map outlining each of the recognized objects.\n",
    "\n",
    "![vision.png](Images/vision.png)"
   ]
  },
  {
   "cell_type": "markdown",
   "metadata": {},
   "source": [
    "## Images as Tensors\n",
    "\n",
    "Computer Vision works with Images. As you probably know, images consist of pixels, so they can be thought of as a rectangular collection (array) of pixels.\n",
    "\n",
    "In the first part of this tutorial, we will deal with handwritten digit recognition. We will use the MNIST dataset, which consists of grayscale images of handwritten digits, 28x28 pixels. Each image can be represented as 28x28 array, and elements of this array would denote intensity of corresponding pixel - either in the scale of range 0 to 1 (in which case floating point numbers are used), or 0 to 255 (integers). A popular python library called numpy is often used with computer vision tasks, because it allows to operate with multidimensional arrays effectively.\n",
    "\n",
    "To deal with color images, we need some way to represent colors. In most cases, we represent each pixel by 3 intensity values, corresponding to Red (R), Green (G) and Blue (B) components. This color encoding is called RGB, and thus color image of size W×H will be represented as an array of size H×W×3 (sometimes the order of components might be different, but the idea is the same).\n",
    "\n",
    "Multi-dimensional arrays are also called tensors. Using tensors to represent images also has an advantage, because we can use an extra dimension to store a sequence of images. For example, to represent a video fragment consisting of 200 frames with 800x600 dimension, we may use the tensor of size 200x600x800x3.\n",
    "## TensorFlow and Keras versions\n"
   ]
  },
  {
   "cell_type": "code",
   "execution_count": 1,
   "metadata": {},
   "outputs": [
    {
     "name": "stderr",
     "output_type": "stream",
     "text": [
      "2023-12-30 10:02:47.428196: I external/local_tsl/tsl/cuda/cudart_stub.cc:31] Could not find cuda drivers on your machine, GPU will not be used.\n",
      "2023-12-30 10:02:49.789558: E external/local_xla/xla/stream_executor/cuda/cuda_dnn.cc:9261] Unable to register cuDNN factory: Attempting to register factory for plugin cuDNN when one has already been registered\n",
      "2023-12-30 10:02:49.789658: E external/local_xla/xla/stream_executor/cuda/cuda_fft.cc:607] Unable to register cuFFT factory: Attempting to register factory for plugin cuFFT when one has already been registered\n",
      "2023-12-30 10:02:50.184872: E external/local_xla/xla/stream_executor/cuda/cuda_blas.cc:1515] Unable to register cuBLAS factory: Attempting to register factory for plugin cuBLAS when one has already been registered\n",
      "2023-12-30 10:02:50.944190: I external/local_tsl/tsl/cuda/cudart_stub.cc:31] Could not find cuda drivers on your machine, GPU will not be used.\n",
      "2023-12-30 10:02:50.945074: I tensorflow/core/platform/cpu_feature_guard.cc:182] This TensorFlow binary is optimized to use available CPU instructions in performance-critical operations.\n",
      "To enable the following instructions: AVX2 FMA, in other operations, rebuild TensorFlow with the appropriate compiler flags.\n",
      "2023-12-30 10:02:54.440729: W tensorflow/compiler/tf2tensorrt/utils/py_utils.cc:38] TF-TRT Warning: Could not find TensorRT\n"
     ]
    },
    {
     "name": "stdout",
     "output_type": "stream",
     "text": [
      "2.15.0\n"
     ]
    }
   ],
   "source": [
    "#Import the packages needed.\n",
    "import tensorflow as tf\n",
    "from tensorflow import keras\n",
    "import matplotlib.pyplot as plt\n",
    "import numpy as np\n",
    "import os\n",
    "\n",
    "# In this tutorial, we will be training a lot of models. In order to use GPU memory cautiously,\n",
    "# we will set tensorflow option to grow GPU memory allocation when required.\n",
    "physical_devices = tf.config.list_physical_devices('GPU') \n",
    "if len(physical_devices)>0:\n",
    "    tf.config.experimental.set_memory_growth(physical_devices[0], True)\n",
    "\n",
    "print(tf.__version__)"
   ]
  },
  {
   "cell_type": "markdown",
   "metadata": {},
   "source": [
    "TensorFlow is now at version 2, and it differs significantly between versions 1 and 2. Thus it is important to check that we have correct version, otherwise the code is likely not to work.\n",
    "\n",
    "In version 2 TensorFlow added a higher-level neural network construction API called Keras. With Keras, most model building steps can be done in a much simpler way. This has made Keras a preferred way to start training deep learning networks. Only switching to pure TensorFlow when you need to develop some custom architectures for research or more complex scenarios. Since Keras is part of TensorFlow, the terms are used interchangeably and many times when someone says TensorFlow they are actually talking about the Keras.\n",
    "\n",
    "In this tutorial, we will focused on developing neural networks using Keras in TensorFlow 2.\n",
    "\n",
    "## Loading the MNIST Dataset\n",
    "\n",
    "Keras has a [number of datasets](https://www.TensorFlow.org/api_docs/python/tf/keras/datasets) available right from the library. Here we are using the well-known [MNIST](http://yann.lecun.com/exdb/mnist/) dataset of handwritten digits, available through `tf.keras.datasets.mnist`. It has a function `load_data()` that returns train and test MNIST datasets.\n",
    "\n",
    "When using your own notebooks, you can experiment with the other built in datasets, in particular [FashionMNIST](https://www.TensorFlow.org/api_docs/python/tf/keras/datasets/fashion_mnist). It has exactly the same shape as MNIST, but contains outlines of different clothing types. You should be able to experiment with FashionMNIST by simply replacing the dataset name below.\n"
   ]
  },
  {
   "cell_type": "code",
   "execution_count": 2,
   "metadata": {},
   "outputs": [
    {
     "name": "stdout",
     "output_type": "stream",
     "text": [
      "(60000, 28, 28) (60000,)\n",
      "(10000, 28, 28) (10000,)\n"
     ]
    }
   ],
   "source": [
    "(x_train,y_train),(x_test,y_test) = keras.datasets.mnist.load_data()\n",
    "\n",
    "print(x_train.shape, y_train.shape)\n",
    "print(x_test.shape,y_test.shape)"
   ]
  },
  {
   "cell_type": "markdown",
   "metadata": {},
   "source": [
    "## Visualize the digits dataset\n",
    "Now that we have downloaded the dataset we can visualize some of the digits"
   ]
  },
  {
   "cell_type": "code",
   "execution_count": 3,
   "metadata": {},
   "outputs": [
    {
     "data": {
      "image/png": "[encoded data removed]",
      "text/plain": [
       "<Figure size 640x480 with 8 Axes>"
      ]
     },
     "metadata": {},
     "output_type": "display_data"
    }
   ],
   "source": [
    "fig, ax = plt.subplots(1, 8)\n",
    "for i in range(8):\n",
    "    ax[i].imshow(x_train[i])\n",
    "    ax[i].set_title(y_train[i])\n",
    "    ax[i].axis('off')"
   ]
  },
  {
   "cell_type": "markdown",
   "metadata": {},
   "source": [
    "## Dataset structure\n",
    "\n",
    "We have a total of 60000 training images (stored in `x_train`) and 10000 testing images (in `x_test`). Labels corresponding to those images are contained in `y_train` and `y_test` accordingly."
   ]
  },
  {
   "cell_type": "code",
   "execution_count": 4,
   "metadata": {},
   "outputs": [
    {
     "name": "stdout",
     "output_type": "stream",
     "text": [
      "Training samples: 60000\n",
      "Test samples: 10000\n",
      "Tensor size: (28, 28)\n",
      "First 10 digits are: [5 0 4 1 9 2 1 3 1 4]\n",
      "Type of data is  <class 'numpy.ndarray'>\n"
     ]
    }
   ],
   "source": [
    "print('Training samples:',len(x_train))\n",
    "print('Test samples:',len(x_test))\n",
    "\n",
    "print('Tensor size:',x_train[0].shape)\n",
    "print('First 10 digits are:', y_train[:10])\n",
    "print('Type of data is ',type(x_train))"
   ]
  },
  {
   "cell_type": "markdown",
   "metadata": {},
   "source": [
    "As you can see, the type of data is numpy array, which allows us to manipulate it using any numpy operations. All pixels of the images are represented by integer numbers from 0 to 255:"
   ]
  },
  {
   "cell_type": "code",
   "execution_count": 5,
   "metadata": {},
   "outputs": [
    {
     "name": "stdout",
     "output_type": "stream",
     "text": [
      "Min intensity value:  0\n",
      "Max intensity value:  255\n"
     ]
    }
   ],
   "source": [
    "print('Min intensity value: ',x_train.min())\n",
    "print('Max intensity value: ',x_train.max())"
   ]
  },
  {
   "cell_type": "markdown",
   "metadata": {},
   "source": [
    "The reason it is between 0 and 255 is because of how color is represented in a binary format. RGB (red, green, blue) are each represented as a 0-255 value to create digital colors.  If we load any image from file using [OpenCV](https://opencv.org/) or [PIL](https://pillow.readthedocs.io/en/stable/) you will end up having numpy array with pixel intensities in the same range [0..255].\n",
    "\n",
    "> Note: If you are loading color image, the shape of the array would be slightly different, each pixel contains 3 color values (R,G and B). Thus the image 300x300 pixels will be represented by 300x300x3 numpy array.\n",
    "\n",
    "If we want to feed our images to the neural network, it is important to make sure that all values are scaled to the range [**0 - 1**] before we start training. So, we will rescale the dataset in order to have all values in the required normalized range:"
   ]
  },
  {
   "cell_type": "code",
   "execution_count": 6,
   "metadata": {},
   "outputs": [],
   "source": [
    "x_train = x_train.astype(np.float32)/255.0\n",
    "x_test = x_test.astype(np.float32)/255.0"
   ]
  },
  {
   "cell_type": "markdown",
   "metadata": {},
   "source": [
    "Now we have the data, and we are ready to start training our first neural network!\n",
    "# Training a dense neural network\n",
    "\n",
    "The handwritten digit recognition is a classification problem. We will start with the simplest possible approach for image classification - a fully-connected neural network (which is also called a *perceptron*). "
   ]
  },
  {
   "cell_type": "markdown",
   "metadata": {},
   "source": [
    "A basic **neural network** consists of a number of **layers**. The simplest network would include just one fully-connected layer, which is called **Dense** layer, with 784 inputs (one input for each pixel of the input image) and 10 outputs (one output for each class). It is called dense because it contains all possible connections between 784 inputs and 10 outputs, 7840 total connections.\n",
    "\n",
    "As we discussed above, the dimension of our digit images is $28\\times28$. Because the input dimension of a fully-connected layer is 784, we need to insert another layer into the network, called **Flatten**, to change tensor shape from $28\\times28$ to $784$.\n",
    "\n",
    "We want $n$-th output of the network to return the probability of the input digit being equal to $n$. Because the output of a fully-connected layer is not normalized to be between 0 and 1, it cannot be thought of as probability. To turn it into a probability we need to apply another layer called **Softmax**.\n",
    "\n",
    "\n",
    "It can be defined in Keras in the following way, using `Sequential` syntax:"
   ]
  },
  {
   "cell_type": "code",
   "execution_count": 7,
   "metadata": {},
   "outputs": [
    {
     "name": "stdout",
     "output_type": "stream",
     "text": [
      "Model: \"sequential\"\n",
      "_________________________________________________________________\n",
      " Layer (type)                Output Shape              Param #   \n",
      "=================================================================\n",
      " flatten (Flatten)           (None, 784)               0         \n",
      "                                                                 \n",
      " dense (Dense)               (None, 10)                7850      \n",
      "                                                                 \n",
      "=================================================================\n",
      "Total params: 7850 (30.66 KB)\n",
      "Trainable params: 7850 (30.66 KB)\n",
      "Non-trainable params: 0 (0.00 Byte)\n",
      "_________________________________________________________________\n"
     ]
    }
   ],
   "source": [
    "model = keras.models.Sequential([\n",
    "        keras.layers.Flatten(input_shape=(28,28)), \n",
    "        keras.layers.Dense(10,activation='softmax')])\n",
    "model.summary()"
   ]
  },
  {
   "cell_type": "markdown",
   "metadata": {},
   "source": [
    "Once you have defined a network, you can call the `summary` method to display its architecture and other useful information, such as number of parameters in each layer.\n",
    "\n",
    "When defining a network, it is important to remember to specify the dimension of the input tensor with the `input_shape` parameter. If you do not do that, Keras is unable to understand how many neurons are required to construct each layer. If `input_shape` is not provided you can still train the network but the summary will be incomplete.\n",
    "\n",
    "## Anatomy of a Dense Layer\n",
    "\n",
    "I have mentioned above that a dense layer contains 7840 weighted connections, however, in the `summary` above we see that our dense layer has 7850 parameters. Let's take some time to understand why.\n",
    "\n",
    "The network input contains 784 pixels, which can be represented by a vector $x$ with 784 numbers. To get an output $z$ of dimension 10 we can multiply it by a matrix $W$ with dimensions $10\\times784$: $z=W\\times x$.\n",
    "\n",
    "However, such multiplication defines a linear transformation without shift. Imagine we had only one input value, then the matrix would have just one weight, and the equation $W\\times x$ would represent a straight line which goes through the point $(0,0)$. This would not be able to perform arbitrary classifications, because in some cases we also want some **shift** to happen. That means that we need a full equation for a straight line: $z=W\\times x + b$, where $b$ is the **bias**.\n",
    "\n",
    "Similarly, in a dense layer with 784 inputs and 10 outputs, the output would be calculated as $W\\times x + b$, where the dimension of **weight** matrix $W$ is $784\\times 10$, and the dimension of a **bias** vector $b$ is 10. This gives us $784\\times 10 + 10 = 7850$ parameters. \n",
    "\n",
    "In Keras, we can get the weight matrix and bias from the `layers` property. Our dense layer is a second layer from the top, thus it can be access using `model.layers[1]`."
   ]
  },
  {
   "cell_type": "code",
   "execution_count": 8,
   "metadata": {},
   "outputs": [
    {
     "data": {
      "text/plain": [
       "[<tf.Variable 'dense/kernel:0' shape=(784, 10) dtype=float32, numpy=\n",
       " array([[-0.08080412, -0.02272029, -0.01838586, ...,  0.07366038,\n",
       "         -0.02508128, -0.06320372],\n",
       "        [ 0.04084525, -0.01747786,  0.03560771, ...,  0.01117477,\n",
       "         -0.07073477,  0.08422927],\n",
       "        [ 0.06526191,  0.04429884, -0.052553  , ...,  0.0562323 ,\n",
       "         -0.05372192,  0.04513197],\n",
       "        ...,\n",
       "        [-0.06796522, -0.07442064,  0.03435763, ...,  0.02610083,\n",
       "         -0.01143245, -0.02267279],\n",
       "        [-0.03626993, -0.06260221, -0.01883871, ...,  0.01342981,\n",
       "          0.01092486, -0.08460618],\n",
       "        [-0.06695927, -0.06150006,  0.03580089, ...,  0.01694144,\n",
       "         -0.03407582, -0.06011839]], dtype=float32)>,\n",
       " <tf.Variable 'dense/bias:0' shape=(10,) dtype=float32, numpy=array([0., 0., 0., 0., 0., 0., 0., 0., 0., 0.], dtype=float32)>]"
      ]
     },
     "execution_count": 8,
     "metadata": {},
     "output_type": "execute_result"
    }
   ],
   "source": [
    "model.layers[1].weights"
   ]
  },
  {
   "cell_type": "markdown",
   "metadata": {},
   "source": [
    "As you can see, `weights` property of a layer returns a list of all weights, in our case it is the actual weight matrix called **kernel**, and a **bias**."
   ]
  },
  {
   "cell_type": "markdown",
   "metadata": {},
   "source": [
    "## Training the network\n",
    "\n",
    "A network defined this way can take any digit as input and produce a vector of probabilities as an output. Let's see how this network performs by giving it a digit from our dataset:"
   ]
  },
  {
   "cell_type": "code",
   "execution_count": 9,
   "metadata": {},
   "outputs": [
    {
     "name": "stdout",
     "output_type": "stream",
     "text": [
      "Digit to be predicted:  5\n"
     ]
    },
    {
     "data": {
      "text/plain": [
       "<tf.Tensor: shape=(1, 10), dtype=float32, numpy=\n",
       "array([[0.06138737, 0.05559804, 0.09516725, 0.08099446, 0.15461296,\n",
       "        0.15652978, 0.0796834 , 0.12736563, 0.05891674, 0.12974437]],\n",
       "      dtype=float32)>"
      ]
     },
     "execution_count": 9,
     "metadata": {},
     "output_type": "execute_result"
    }
   ],
   "source": [
    "print('Digit to be predicted: ',y_train[0])\n",
    "model(np.expand_dims(x_train[0],0))"
   ]
  },
  {
   "cell_type": "markdown",
   "metadata": {},
   "source": [
    "The output of the network is the **tensor**, represented by the `ft.Tensor` object. The tensor type is very similar to a numpy array, however TensorFlow can operate on tensors very efficiently, shifting computations to GPU for better performance.\n",
    "\n",
    "> **Note**: In fact, low-level TensorFlow API contains all basic tensor operations, similar to corresponding numpy operations on arrays. For example, you can use `tf.exp` on tensors, and it would be equivalent to calling `np.exp` on numpy arrays.\n",
    "\n",
    "As you can see the network predicts similar probabilities for each digit. This is because it has not been trained on how to recognize the digits yet. We need to give it our training data to train it on our dataset.\n",
    "\n",
    "To train the model we first need to **compile** it:"
   ]
  },
  {
   "cell_type": "code",
   "execution_count": 10,
   "metadata": {},
   "outputs": [],
   "source": [
    "model.compile(optimizer='sgd',loss='categorical_crossentropy')"
   ]
  },
  {
   "cell_type": "markdown",
   "metadata": {},
   "source": [
    "When building a model, we specify two important things:\n",
    "* An **optimizer** that will be used to minimize the error. The simplest optimizer is **stochastic gradient descent**, or SGD; but with more complex networks other optimizers are often used, such as **Adam**\n",
    "* A **loss function** will be used on the output of the network to obtain the error, which we will then minimize. For this model we will use **categorical cross-entropy** as the loss function.\n",
    "\n",
    "To train the network, we need to provide an output for each training sample. We have **multi-class classification** problem since the network outputs probabilities for each digit from 0 to 9 (digits). \n",
    "\n",
    "We need the expected outputs to have the same layout, i.e. be a 10-number vector that contains 1 in only one position. This is called **one-hot encoding**. For example, digit 5 will be one-hot-encoded by a vector (0 0 0 0 0 1 0 0 0 0).\n",
    "\n",
    "We can easily one-hot-encode training labels using Keras API:"
   ]
  },
  {
   "cell_type": "code",
   "execution_count": 11,
   "metadata": {},
   "outputs": [
    {
     "name": "stdout",
     "output_type": "stream",
     "text": [
      "First 3 training labels: [5 0 4]\n",
      "One-hot-encoded version:\n",
      " [[0. 0. 0. 0. 0. 1. 0. 0. 0. 0.]\n",
      " [1. 0. 0. 0. 0. 0. 0. 0. 0. 0.]\n",
      " [0. 0. 0. 0. 1. 0. 0. 0. 0. 0.]]\n"
     ]
    }
   ],
   "source": [
    "y_train_onehot = keras.utils.to_categorical(y_train)\n",
    "y_test_onehot = keras.utils.to_categorical(y_test)\n",
    "print(\"First 3 training labels:\",y_train[:3])\n",
    "print(\"One-hot-encoded version:\\n\",y_train_onehot[:3])"
   ]
  },
  {
   "cell_type": "markdown",
   "metadata": {},
   "source": [
    "Now, to do the actual training, we call the `fit` function:"
   ]
  },
  {
   "cell_type": "code",
   "execution_count": 12,
   "metadata": {},
   "outputs": [
    {
     "name": "stdout",
     "output_type": "stream",
     "text": [
      "1875/1875 [==============================] - 2s 852us/step - loss: 0.7800\n"
     ]
    },
    {
     "data": {
      "text/plain": [
       "<keras.src.callbacks.History at 0x7f65950a6380>"
      ]
     },
     "execution_count": 12,
     "metadata": {},
     "output_type": "execute_result"
    }
   ],
   "source": [
    "model.fit(x_train,y_train_onehot)"
   ]
  },
  {
   "cell_type": "markdown",
   "metadata": {},
   "source": [
    "## Monitoring training\n",
    "\n",
    "This training only loops through the dataset once, which is called one **epoch**. Normally we want training to go on for several epochs, and we can specify the number of epochs we want using a parameter.\n",
    "\n",
    "Also, it is useful to evaluate the quality of the model on test and/or a validation datasets. It's important to test the model with unseen data because this will help indicate how well the model **generalizes** to other data beyond our dataset. To evaluate the error in between epochs, we can pass in validation data:"
   ]
  },
  {
   "cell_type": "code",
   "execution_count": 13,
   "metadata": {},
   "outputs": [
    {
     "name": "stdout",
     "output_type": "stream",
     "text": [
      "Epoch 1/50\n",
      " 123/1875 [>.............................] - ETA: 1s - loss: 0.5030"
     ]
    },
    {
     "name": "stdout",
     "output_type": "stream",
     "text": [
      "1875/1875 [==============================] - 2s 1ms/step - loss: 0.4566 - val_loss: 0.4010\n",
      "Epoch 2/50\n",
      "1875/1875 [==============================] - 2s 959us/step - loss: 0.4038 - val_loss: 0.3686\n",
      "Epoch 3/50\n",
      "1875/1875 [==============================] - 2s 995us/step - loss: 0.3774 - val_loss: 0.3493\n",
      "Epoch 4/50\n",
      "1875/1875 [==============================] - 2s 948us/step - loss: 0.3606 - val_loss: 0.3373\n",
      "Epoch 5/50\n",
      "1875/1875 [==============================] - 2s 956us/step - loss: 0.3487 - val_loss: 0.3275\n",
      "Epoch 6/50\n",
      "1875/1875 [==============================] - 2s 986us/step - loss: 0.3397 - val_loss: 0.3207\n",
      "Epoch 7/50\n",
      "1875/1875 [==============================] - 2s 962us/step - loss: 0.3325 - val_loss: 0.3156\n",
      "Epoch 8/50\n",
      "1875/1875 [==============================] - 2s 959us/step - loss: 0.3266 - val_loss: 0.3103\n",
      "Epoch 9/50\n",
      "1875/1875 [==============================] - 2s 971us/step - loss: 0.3218 - val_loss: 0.3074\n",
      "Epoch 10/50\n",
      "1875/1875 [==============================] - 2s 984us/step - loss: 0.3175 - val_loss: 0.3035\n",
      "Epoch 11/50\n",
      "1875/1875 [==============================] - 2s 943us/step - loss: 0.3138 - val_loss: 0.3017\n",
      "Epoch 12/50\n",
      "1875/1875 [==============================] - 2s 977us/step - loss: 0.3106 - val_loss: 0.2987\n",
      "Epoch 13/50\n",
      "1875/1875 [==============================] - 2s 941us/step - loss: 0.3077 - val_loss: 0.2965\n",
      "Epoch 14/50\n",
      "1875/1875 [==============================] - 2s 936us/step - loss: 0.3051 - val_loss: 0.2948\n",
      "Epoch 15/50\n",
      "1875/1875 [==============================] - 2s 956us/step - loss: 0.3027 - val_loss: 0.2933\n",
      "Epoch 16/50\n",
      "1875/1875 [==============================] - 2s 937us/step - loss: 0.3007 - val_loss: 0.2916\n",
      "Epoch 17/50\n",
      "1875/1875 [==============================] - 2s 941us/step - loss: 0.2987 - val_loss: 0.2902\n",
      "Epoch 18/50\n",
      "1875/1875 [==============================] - 2s 987us/step - loss: 0.2969 - val_loss: 0.2891\n",
      "Epoch 19/50\n",
      "1875/1875 [==============================] - 2s 934us/step - loss: 0.2952 - val_loss: 0.2879\n",
      "Epoch 20/50\n",
      "1875/1875 [==============================] - 2s 950us/step - loss: 0.2937 - val_loss: 0.2873\n",
      "Epoch 21/50\n",
      "1875/1875 [==============================] - 2s 943us/step - loss: 0.2922 - val_loss: 0.2865\n",
      "Epoch 22/50\n",
      "1875/1875 [==============================] - 2s 944us/step - loss: 0.2909 - val_loss: 0.2845\n",
      "Epoch 23/50\n",
      "1875/1875 [==============================] - 2s 953us/step - loss: 0.2897 - val_loss: 0.2836\n",
      "Epoch 24/50\n",
      "1875/1875 [==============================] - 2s 969us/step - loss: 0.2884 - val_loss: 0.2836\n",
      "Epoch 25/50\n",
      "1875/1875 [==============================] - 2s 945us/step - loss: 0.2874 - val_loss: 0.2827\n",
      "Epoch 26/50\n",
      "1875/1875 [==============================] - 2s 963us/step - loss: 0.2863 - val_loss: 0.2817\n",
      "Epoch 27/50\n",
      "1875/1875 [==============================] - 2s 928us/step - loss: 0.2852 - val_loss: 0.2810\n",
      "Epoch 28/50\n",
      "1875/1875 [==============================] - 2s 933us/step - loss: 0.2843 - val_loss: 0.2809\n",
      "Epoch 29/50\n",
      "1875/1875 [==============================] - 2s 969us/step - loss: 0.2834 - val_loss: 0.2803\n",
      "Epoch 30/50\n",
      "1875/1875 [==============================] - 2s 954us/step - loss: 0.2826 - val_loss: 0.2801\n",
      "Epoch 31/50\n",
      "1875/1875 [==============================] - 2s 978us/step - loss: 0.2816 - val_loss: 0.2790\n",
      "Epoch 32/50\n",
      "1875/1875 [==============================] - 2s 962us/step - loss: 0.2809 - val_loss: 0.2785\n",
      "Epoch 33/50\n",
      "1875/1875 [==============================] - 2s 937us/step - loss: 0.2802 - val_loss: 0.2783\n",
      "Epoch 34/50\n",
      "1875/1875 [==============================] - 2s 939us/step - loss: 0.2794 - val_loss: 0.2773\n",
      "Epoch 35/50\n",
      "1875/1875 [==============================] - 2s 986us/step - loss: 0.2788 - val_loss: 0.2781\n",
      "Epoch 36/50\n",
      "1875/1875 [==============================] - 2s 965us/step - loss: 0.2781 - val_loss: 0.2773\n",
      "Epoch 37/50\n",
      "1875/1875 [==============================] - 2s 960us/step - loss: 0.2774 - val_loss: 0.2766\n",
      "Epoch 38/50\n",
      "1875/1875 [==============================] - 2s 948us/step - loss: 0.2768 - val_loss: 0.2769\n",
      "Epoch 39/50\n",
      "1875/1875 [==============================] - 2s 939us/step - loss: 0.2763 - val_loss: 0.2756\n",
      "Epoch 40/50\n",
      "1875/1875 [==============================] - 2s 949us/step - loss: 0.2756 - val_loss: 0.2755\n",
      "Epoch 41/50\n",
      "1875/1875 [==============================] - 2s 957us/step - loss: 0.2750 - val_loss: 0.2751\n",
      "Epoch 42/50\n",
      "1875/1875 [==============================] - 2s 940us/step - loss: 0.2746 - val_loss: 0.2742\n",
      "Epoch 43/50\n",
      "1875/1875 [==============================] - 2s 958us/step - loss: 0.2740 - val_loss: 0.2743\n",
      "Epoch 44/50\n",
      "1875/1875 [==============================] - 2s 948us/step - loss: 0.2736 - val_loss: 0.2741\n",
      "Epoch 45/50\n",
      "1875/1875 [==============================] - 2s 940us/step - loss: 0.2731 - val_loss: 0.2737\n",
      "Epoch 46/50\n",
      "1875/1875 [==============================] - 2s 943us/step - loss: 0.2725 - val_loss: 0.2740\n",
      "Epoch 47/50\n",
      "1875/1875 [==============================] - 2s 958us/step - loss: 0.2721 - val_loss: 0.2736\n",
      "Epoch 48/50\n",
      "1875/1875 [==============================] - 2s 935us/step - loss: 0.2716 - val_loss: 0.2736\n",
      "Epoch 49/50\n",
      "1875/1875 [==============================] - 2s 944us/step - loss: 0.2711 - val_loss: 0.2729\n",
      "Epoch 50/50\n",
      "1875/1875 [==============================] - 2s 944us/step - loss: 0.2707 - val_loss: 0.2735\n"
     ]
    }
   ],
   "source": [
    "hist = model.fit(x_train,y_train_onehot,validation_data=(x_test,y_test_onehot), epochs=50)"
   ]
  },
  {
   "cell_type": "markdown",
   "metadata": {},
   "source": [
    "The `fit` function returns the **history** object that contains the loss data for each training epoch. It can be used to visualize the loss on the graph:"
   ]
  },
  {
   "cell_type": "code",
   "execution_count": 14,
   "metadata": {},
   "outputs": [
    {
     "data": {
      "text/plain": [
       "<matplotlib.legend.Legend at 0x7f65950a4280>"
      ]
     },
     "execution_count": 14,
     "metadata": {},
     "output_type": "execute_result"
    },
    {
     "data": {
      "image/png": "[encoded data removed]",
      "text/plain": [
       "<Figure size 640x480 with 1 Axes>"
      ]
     },
     "metadata": {},
     "output_type": "display_data"
    }
   ],
   "source": [
    "for x in ['loss','val_loss']:\n",
    "    plt.plot(hist.history[x], label=x)\n",
    "plt.legend()"
   ]
  },
  {
   "cell_type": "markdown",
   "metadata": {},
   "source": [
    "## Metrics and Minibatches\n",
    "\n",
    "The value of the loss function does not tell us a lot about the accuracy of the model. To measure accuracy, we would want to see the percentage of correctly classified digits from the test dataset. In fact, we can add accuracy as a **metric** during dataset compilation, and it would be displayed and reported all the way through the training:"
   ]
  },
  {
   "cell_type": "code",
   "execution_count": 15,
   "metadata": {},
   "outputs": [
    {
     "name": "stdout",
     "output_type": "stream",
     "text": [
      "Epoch 1/50\n",
      "469/469 [==============================] - 1s 1ms/step - loss: 0.2696 - acc: 0.9253 - val_loss: 0.2725 - val_acc: 0.9230\n",
      "Epoch 2/50\n",
      "469/469 [==============================] - 1s 1ms/step - loss: 0.2695 - acc: 0.9255 - val_loss: 0.2726 - val_acc: 0.9227\n",
      "Epoch 3/50\n",
      "431/469 [==========================>...] - ETA: 0s - loss: 0.2695 - acc: 0.9257"
     ]
    },
    {
     "name": "stdout",
     "output_type": "stream",
     "text": [
      "469/469 [==============================] - 1s 1ms/step - loss: 0.2694 - acc: 0.9256 - val_loss: 0.2726 - val_acc: 0.9235\n",
      "Epoch 4/50\n",
      "469/469 [==============================] - 1s 1ms/step - loss: 0.2693 - acc: 0.9258 - val_loss: 0.2726 - val_acc: 0.9236\n",
      "Epoch 5/50\n",
      "469/469 [==============================] - 1s 1ms/step - loss: 0.2692 - acc: 0.9257 - val_loss: 0.2725 - val_acc: 0.9228\n",
      "Epoch 6/50\n",
      "469/469 [==============================] - 1s 1ms/step - loss: 0.2691 - acc: 0.9259 - val_loss: 0.2727 - val_acc: 0.9234\n",
      "Epoch 7/50\n",
      "469/469 [==============================] - 1s 1ms/step - loss: 0.2690 - acc: 0.9258 - val_loss: 0.2723 - val_acc: 0.9226\n",
      "Epoch 8/50\n",
      "469/469 [==============================] - 1s 1ms/step - loss: 0.2689 - acc: 0.9258 - val_loss: 0.2723 - val_acc: 0.9229\n",
      "Epoch 9/50\n",
      "469/469 [==============================] - 1s 1ms/step - loss: 0.2688 - acc: 0.9256 - val_loss: 0.2723 - val_acc: 0.9230\n",
      "Epoch 10/50\n",
      "469/469 [==============================] - 1s 1ms/step - loss: 0.2687 - acc: 0.9257 - val_loss: 0.2724 - val_acc: 0.9228\n",
      "Epoch 11/50\n",
      "469/469 [==============================] - 1s 1ms/step - loss: 0.2686 - acc: 0.9258 - val_loss: 0.2722 - val_acc: 0.9235\n",
      "Epoch 12/50\n",
      "469/469 [==============================] - 1s 1ms/step - loss: 0.2685 - acc: 0.9259 - val_loss: 0.2722 - val_acc: 0.9236\n",
      "Epoch 13/50\n",
      "469/469 [==============================] - 1s 1ms/step - loss: 0.2684 - acc: 0.9258 - val_loss: 0.2721 - val_acc: 0.9236\n",
      "Epoch 14/50\n",
      "469/469 [==============================] - 1s 1ms/step - loss: 0.2683 - acc: 0.9259 - val_loss: 0.2720 - val_acc: 0.9236\n",
      "Epoch 15/50\n",
      "469/469 [==============================] - 1s 1ms/step - loss: 0.2682 - acc: 0.9256 - val_loss: 0.2719 - val_acc: 0.9237\n",
      "Epoch 16/50\n",
      "469/469 [==============================] - 1s 1ms/step - loss: 0.2681 - acc: 0.9259 - val_loss: 0.2718 - val_acc: 0.9239\n",
      "Epoch 17/50\n",
      "469/469 [==============================] - 1s 1ms/step - loss: 0.2681 - acc: 0.9261 - val_loss: 0.2719 - val_acc: 0.9231\n",
      "Epoch 18/50\n",
      "469/469 [==============================] - 1s 1ms/step - loss: 0.2679 - acc: 0.9260 - val_loss: 0.2717 - val_acc: 0.9235\n",
      "Epoch 19/50\n",
      "469/469 [==============================] - 1s 1ms/step - loss: 0.2678 - acc: 0.9261 - val_loss: 0.2717 - val_acc: 0.9233\n",
      "Epoch 20/50\n",
      "469/469 [==============================] - 1s 1ms/step - loss: 0.2678 - acc: 0.9259 - val_loss: 0.2717 - val_acc: 0.9236\n",
      "Epoch 21/50\n",
      "469/469 [==============================] - 1s 1ms/step - loss: 0.2677 - acc: 0.9259 - val_loss: 0.2717 - val_acc: 0.9233\n",
      "Epoch 22/50\n",
      "469/469 [==============================] - 1s 1ms/step - loss: 0.2676 - acc: 0.9261 - val_loss: 0.2720 - val_acc: 0.9236\n",
      "Epoch 23/50\n",
      "469/469 [==============================] - 1s 1ms/step - loss: 0.2675 - acc: 0.9261 - val_loss: 0.2716 - val_acc: 0.9238\n",
      "Epoch 24/50\n",
      "469/469 [==============================] - 1s 1ms/step - loss: 0.2674 - acc: 0.9261 - val_loss: 0.2717 - val_acc: 0.9232\n",
      "Epoch 25/50\n",
      "469/469 [==============================] - 1s 1ms/step - loss: 0.2673 - acc: 0.9260 - val_loss: 0.2716 - val_acc: 0.9232\n",
      "Epoch 26/50\n",
      "469/469 [==============================] - 1s 1ms/step - loss: 0.2672 - acc: 0.9262 - val_loss: 0.2714 - val_acc: 0.9237\n",
      "Epoch 27/50\n",
      "469/469 [==============================] - 1s 1ms/step - loss: 0.2671 - acc: 0.9262 - val_loss: 0.2713 - val_acc: 0.9234\n",
      "Epoch 28/50\n",
      "469/469 [==============================] - 1s 1ms/step - loss: 0.2670 - acc: 0.9262 - val_loss: 0.2715 - val_acc: 0.9233\n",
      "Epoch 29/50\n",
      "469/469 [==============================] - 1s 1ms/step - loss: 0.2670 - acc: 0.9263 - val_loss: 0.2714 - val_acc: 0.9234\n",
      "Epoch 30/50\n",
      "469/469 [==============================] - 1s 1ms/step - loss: 0.2669 - acc: 0.9263 - val_loss: 0.2713 - val_acc: 0.9237\n",
      "Epoch 31/50\n",
      "469/469 [==============================] - 1s 1ms/step - loss: 0.2668 - acc: 0.9263 - val_loss: 0.2711 - val_acc: 0.9239\n",
      "Epoch 32/50\n",
      "469/469 [==============================] - 1s 1ms/step - loss: 0.2667 - acc: 0.9264 - val_loss: 0.2712 - val_acc: 0.9235\n",
      "Epoch 33/50\n",
      "469/469 [==============================] - 1s 1ms/step - loss: 0.2666 - acc: 0.9262 - val_loss: 0.2712 - val_acc: 0.9235\n",
      "Epoch 34/50\n",
      "469/469 [==============================] - 1s 1ms/step - loss: 0.2665 - acc: 0.9263 - val_loss: 0.2711 - val_acc: 0.9236\n",
      "Epoch 35/50\n",
      "469/469 [==============================] - 1s 1ms/step - loss: 0.2665 - acc: 0.9265 - val_loss: 0.2711 - val_acc: 0.9236\n",
      "Epoch 36/50\n",
      "469/469 [==============================] - 1s 1ms/step - loss: 0.2664 - acc: 0.9263 - val_loss: 0.2712 - val_acc: 0.9236\n",
      "Epoch 37/50\n",
      "469/469 [==============================] - 1s 1ms/step - loss: 0.2663 - acc: 0.9264 - val_loss: 0.2711 - val_acc: 0.9229\n",
      "Epoch 38/50\n",
      "469/469 [==============================] - 1s 1ms/step - loss: 0.2662 - acc: 0.9266 - val_loss: 0.2710 - val_acc: 0.9231\n",
      "Epoch 39/50\n",
      "469/469 [==============================] - 1s 1ms/step - loss: 0.2661 - acc: 0.9264 - val_loss: 0.2709 - val_acc: 0.9232\n",
      "Epoch 40/50\n",
      "469/469 [==============================] - 1s 1ms/step - loss: 0.2661 - acc: 0.9263 - val_loss: 0.2710 - val_acc: 0.9235\n",
      "Epoch 41/50\n",
      "469/469 [==============================] - 1s 1ms/step - loss: 0.2659 - acc: 0.9264 - val_loss: 0.2710 - val_acc: 0.9235\n",
      "Epoch 42/50\n",
      "469/469 [==============================] - 1s 1ms/step - loss: 0.2659 - acc: 0.9266 - val_loss: 0.2709 - val_acc: 0.9235\n",
      "Epoch 43/50\n",
      "469/469 [==============================] - 1s 1ms/step - loss: 0.2658 - acc: 0.9265 - val_loss: 0.2710 - val_acc: 0.9237\n",
      "Epoch 44/50\n",
      "469/469 [==============================] - 1s 1ms/step - loss: 0.2657 - acc: 0.9267 - val_loss: 0.2709 - val_acc: 0.9235\n",
      "Epoch 45/50\n",
      "469/469 [==============================] - 1s 1ms/step - loss: 0.2656 - acc: 0.9265 - val_loss: 0.2708 - val_acc: 0.9235\n",
      "Epoch 46/50\n",
      "469/469 [==============================] - 1s 1ms/step - loss: 0.2656 - acc: 0.9268 - val_loss: 0.2706 - val_acc: 0.9239\n",
      "Epoch 47/50\n",
      "469/469 [==============================] - 1s 1ms/step - loss: 0.2655 - acc: 0.9267 - val_loss: 0.2707 - val_acc: 0.9240\n",
      "Epoch 48/50\n",
      "469/469 [==============================] - 1s 1ms/step - loss: 0.2654 - acc: 0.9268 - val_loss: 0.2709 - val_acc: 0.9237\n",
      "Epoch 49/50\n",
      "469/469 [==============================] - 1s 1ms/step - loss: 0.2653 - acc: 0.9268 - val_loss: 0.2707 - val_acc: 0.9234\n",
      "Epoch 50/50\n",
      "469/469 [==============================] - 1s 1ms/step - loss: 0.2652 - acc: 0.9269 - val_loss: 0.2706 - val_acc: 0.9243\n"
     ]
    }
   ],
   "source": [
    "model.compile(optimizer='sgd',loss='categorical_crossentropy',metrics=['acc'])\n",
    "hist = model.fit(x_train,y_train_onehot,validation_data=(x_test,y_test_onehot), epochs=50,batch_size=128)"
   ]
  },
  {
   "cell_type": "markdown",
   "metadata": {},
   "source": [
    "In addition to using new accuracy metrics, we have specified `batch_size` parameter to define the number of samples that are being processed by the neural network at once. Since GPU computations are easily parallelizable, it is much more efficient to process several samples in one go. Larger minibatch size significantly speeds up learning process, but also makes it a little bit less precise. This is due to the fact that the direction of optimization is selected for the whole minibatch, and not for each individual sample. Thus, choosing minibatch size is quite tricky, and it remains one of the hyperparameters that can be further optimized to achieve better performance. \n",
    "\n",
    "## Specifying Optimizer Parameters\n",
    "\n",
    "In the previous call to `compile`, we have been specifying optimizer, loss and metrics using keyword abbreviations, such as `sgd`. However, sometimes we might want to do some fine-tuning to optimizer parameters, or use custom loss function. In such cases, it is possible to pass objects instead of string abbreviations.\n",
    "\n",
    "Let's use a variation of stochastic gradient descent, which is called **momentum SGD**. The idea is that the gradients of loss function will be averaged over the last few steps in order to keep the momentum, and make optimization more smooth. To turn our gradient descent into momentum SGD, we need to create `SDG` optimizer object explicitly, provide `momentum` parameter, and pass this object to `compile` method."
   ]
  },
  {
   "cell_type": "code",
   "execution_count": 16,
   "metadata": {},
   "outputs": [
    {
     "name": "stdout",
     "output_type": "stream",
     "text": [
      "Epoch 1/50\n",
      "938/938 [==============================] - 1s 1ms/step - loss: 0.7737 - acc: 0.8169 - val_loss: 0.4797 - val_acc: 0.8827\n",
      "Epoch 2/50\n",
      "938/938 [==============================] - 1s 1ms/step - loss: 0.4561 - acc: 0.8813 - val_loss: 0.4004 - val_acc: 0.8942\n",
      "Epoch 3/50\n",
      "938/938 [==============================] - 1s 1ms/step - loss: 0.4031 - acc: 0.8913 - val_loss: 0.3665 - val_acc: 0.9016\n",
      "Epoch 4/50\n",
      "938/938 [==============================] - 1s 1ms/step - loss: 0.3764 - acc: 0.8977 - val_loss: 0.3481 - val_acc: 0.9064\n",
      "Epoch 5/50\n",
      "938/938 [==============================] - 1s 1ms/step - loss: 0.3597 - acc: 0.9012 - val_loss: 0.3353 - val_acc: 0.9093\n",
      "Epoch 6/50\n",
      "938/938 [==============================] - 1s 1ms/step - loss: 0.3480 - acc: 0.9042 - val_loss: 0.3261 - val_acc: 0.9118\n",
      "Epoch 7/50\n",
      "938/938 [==============================] - 1s 1ms/step - loss: 0.3389 - acc: 0.9062 - val_loss: 0.3194 - val_acc: 0.9142\n",
      "Epoch 8/50\n",
      "938/938 [==============================] - 1s 1ms/step - loss: 0.3318 - acc: 0.9081 - val_loss: 0.3145 - val_acc: 0.9145\n",
      "Epoch 9/50\n",
      "938/938 [==============================] - 1s 1ms/step - loss: 0.3260 - acc: 0.9095 - val_loss: 0.3099 - val_acc: 0.9156\n",
      "Epoch 10/50\n",
      "938/938 [==============================] - 1s 1ms/step - loss: 0.3210 - acc: 0.9107 - val_loss: 0.3064 - val_acc: 0.9167\n",
      "Epoch 11/50\n",
      "938/938 [==============================] - 1s 1ms/step - loss: 0.3168 - acc: 0.9119 - val_loss: 0.3026 - val_acc: 0.9174\n",
      "Epoch 12/50\n",
      "938/938 [==============================] - 1s 1ms/step - loss: 0.3131 - acc: 0.9128 - val_loss: 0.3000 - val_acc: 0.9166\n",
      "Epoch 13/50\n",
      "938/938 [==============================] - 1s 1ms/step - loss: 0.3100 - acc: 0.9136 - val_loss: 0.2974 - val_acc: 0.9176\n",
      "Epoch 14/50\n",
      "938/938 [==============================] - 1s 1ms/step - loss: 0.3071 - acc: 0.9147 - val_loss: 0.2962 - val_acc: 0.9179\n",
      "Epoch 15/50\n",
      "938/938 [==============================] - 1s 1ms/step - loss: 0.3046 - acc: 0.9151 - val_loss: 0.2944 - val_acc: 0.9187\n",
      "Epoch 16/50\n",
      "938/938 [==============================] - 1s 1ms/step - loss: 0.3023 - acc: 0.9162 - val_loss: 0.2927 - val_acc: 0.9198\n",
      "Epoch 17/50\n",
      "938/938 [==============================] - 1s 1ms/step - loss: 0.3001 - acc: 0.9163 - val_loss: 0.2915 - val_acc: 0.9210\n",
      "Epoch 18/50\n",
      "938/938 [==============================] - 1s 1ms/step - loss: 0.2983 - acc: 0.9171 - val_loss: 0.2890 - val_acc: 0.9203\n",
      "Epoch 19/50\n",
      "938/938 [==============================] - 1s 1ms/step - loss: 0.2964 - acc: 0.9177 - val_loss: 0.2892 - val_acc: 0.9205\n",
      "Epoch 20/50\n",
      "938/938 [==============================] - 1s 1ms/step - loss: 0.2948 - acc: 0.9178 - val_loss: 0.2880 - val_acc: 0.9210\n",
      "Epoch 21/50\n",
      "938/938 [==============================] - 1s 1ms/step - loss: 0.2933 - acc: 0.9187 - val_loss: 0.2860 - val_acc: 0.9209\n",
      "Epoch 22/50\n",
      "938/938 [==============================] - 1s 1ms/step - loss: 0.2918 - acc: 0.9190 - val_loss: 0.2846 - val_acc: 0.9206\n",
      "Epoch 23/50\n",
      "938/938 [==============================] - 1s 1ms/step - loss: 0.2905 - acc: 0.9190 - val_loss: 0.2841 - val_acc: 0.9223\n",
      "Epoch 24/50\n",
      "938/938 [==============================] - 1s 1ms/step - loss: 0.2892 - acc: 0.9198 - val_loss: 0.2838 - val_acc: 0.9213\n",
      "Epoch 25/50\n",
      "938/938 [==============================] - 1s 1ms/step - loss: 0.2881 - acc: 0.9197 - val_loss: 0.2830 - val_acc: 0.9209\n",
      "Epoch 26/50\n",
      "938/938 [==============================] - 1s 1ms/step - loss: 0.2870 - acc: 0.9200 - val_loss: 0.2819 - val_acc: 0.9215\n",
      "Epoch 27/50\n",
      "938/938 [==============================] - 1s 1ms/step - loss: 0.2859 - acc: 0.9204 - val_loss: 0.2821 - val_acc: 0.9227\n",
      "Epoch 28/50\n",
      "938/938 [==============================] - 1s 1ms/step - loss: 0.2849 - acc: 0.9206 - val_loss: 0.2811 - val_acc: 0.9210\n",
      "Epoch 29/50\n",
      "938/938 [==============================] - 1s 1ms/step - loss: 0.2841 - acc: 0.9214 - val_loss: 0.2803 - val_acc: 0.9215\n",
      "Epoch 30/50\n",
      "938/938 [==============================] - 1s 1ms/step - loss: 0.2831 - acc: 0.9207 - val_loss: 0.2803 - val_acc: 0.9218\n",
      "Epoch 31/50\n",
      "938/938 [==============================] - 1s 1ms/step - loss: 0.2824 - acc: 0.9215 - val_loss: 0.2787 - val_acc: 0.9224\n",
      "Epoch 32/50\n",
      "938/938 [==============================] - 1s 1ms/step - loss: 0.2814 - acc: 0.9219 - val_loss: 0.2787 - val_acc: 0.9226\n",
      "Epoch 33/50\n",
      "938/938 [==============================] - 1s 1ms/step - loss: 0.2807 - acc: 0.9219 - val_loss: 0.2781 - val_acc: 0.9229\n",
      "Epoch 34/50\n",
      "938/938 [==============================] - 1s 1ms/step - loss: 0.2800 - acc: 0.9222 - val_loss: 0.2778 - val_acc: 0.9228\n",
      "Epoch 35/50\n",
      "938/938 [==============================] - 1s 1ms/step - loss: 0.2792 - acc: 0.9223 - val_loss: 0.2771 - val_acc: 0.9233\n",
      "Epoch 36/50\n",
      "938/938 [==============================] - 1s 1ms/step - loss: 0.2785 - acc: 0.9230 - val_loss: 0.2765 - val_acc: 0.9223\n",
      "Epoch 37/50\n",
      "938/938 [==============================] - 1s 1ms/step - loss: 0.2779 - acc: 0.9232 - val_loss: 0.2766 - val_acc: 0.9219\n",
      "Epoch 38/50\n",
      "938/938 [==============================] - 1s 1ms/step - loss: 0.2771 - acc: 0.9233 - val_loss: 0.2766 - val_acc: 0.9222\n",
      "Epoch 39/50\n",
      "938/938 [==============================] - 1s 1ms/step - loss: 0.2766 - acc: 0.9231 - val_loss: 0.2763 - val_acc: 0.9225\n",
      "Epoch 40/50\n",
      "938/938 [==============================] - 1s 1ms/step - loss: 0.2760 - acc: 0.9234 - val_loss: 0.2758 - val_acc: 0.9221\n",
      "Epoch 41/50\n",
      "938/938 [==============================] - 1s 1ms/step - loss: 0.2754 - acc: 0.9236 - val_loss: 0.2749 - val_acc: 0.9225\n",
      "Epoch 42/50\n",
      "938/938 [==============================] - 1s 1ms/step - loss: 0.2748 - acc: 0.9236 - val_loss: 0.2750 - val_acc: 0.9233\n",
      "Epoch 43/50\n",
      "938/938 [==============================] - 1s 1ms/step - loss: 0.2743 - acc: 0.9238 - val_loss: 0.2748 - val_acc: 0.9225\n",
      "Epoch 44/50\n",
      "938/938 [==============================] - 1s 1ms/step - loss: 0.2738 - acc: 0.9240 - val_loss: 0.2742 - val_acc: 0.9228\n",
      "Epoch 45/50\n",
      "938/938 [==============================] - 1s 1ms/step - loss: 0.2733 - acc: 0.9242 - val_loss: 0.2738 - val_acc: 0.9228\n",
      "Epoch 46/50\n",
      "938/938 [==============================] - 1s 1ms/step - loss: 0.2728 - acc: 0.9245 - val_loss: 0.2737 - val_acc: 0.9221\n",
      "Epoch 47/50\n",
      "938/938 [==============================] - 1s 1ms/step - loss: 0.2723 - acc: 0.9247 - val_loss: 0.2737 - val_acc: 0.9231\n",
      "Epoch 48/50\n",
      "938/938 [==============================] - 1s 1ms/step - loss: 0.2718 - acc: 0.9246 - val_loss: 0.2739 - val_acc: 0.9219\n",
      "Epoch 49/50\n",
      "938/938 [==============================] - 1s 1ms/step - loss: 0.2715 - acc: 0.9247 - val_loss: 0.2734 - val_acc: 0.9233\n",
      "Epoch 50/50\n",
      "938/938 [==============================] - 1s 1ms/step - loss: 0.2710 - acc: 0.9249 - val_loss: 0.2727 - val_acc: 0.9223\n"
     ]
    }
   ],
   "source": [
    "model = keras.models.Sequential([\n",
    "        keras.layers.Flatten(input_shape=(28,28)), \n",
    "        keras.layers.Dense(10,activation='softmax')])\n",
    "model.compile(optimizer=keras.optimizers.SGD(momentum=0.5),loss='categorical_crossentropy',metrics=['acc'])\n",
    "hist = model.fit(x_train,y_train_onehot,validation_data=(x_test,y_test_onehot), epochs=50, batch_size=64)  "
   ]
  },
  {
   "cell_type": "code",
   "execution_count": 17,
   "metadata": {},
   "outputs": [
    {
     "data": {
      "text/plain": [
       "<matplotlib.legend.Legend at 0x7f65841a66b0>"
      ]
     },
     "execution_count": 17,
     "metadata": {},
     "output_type": "execute_result"
    },
    {
     "data": {
      "image/png": "[encoded data removed]",
      "text/plain": [
       "<Figure size 640x480 with 1 Axes>"
      ]
     },
     "metadata": {},
     "output_type": "display_data"
    }
   ],
   "source": [
    "for x in ['acc','val_acc']:\n",
    "    plt.plot(hist.history[x], label=x)\n",
    "plt.legend()"
   ]
  },
  {
   "cell_type": "markdown",
   "metadata": {},
   "source": [
    "## Visualizing network weights\n",
    "\n",
    "Now let's visualize the weights of our neural network and see what they look like. When the network is more complex than just one layer, making sense of the weight data is more difficult. However, in this example of classifying a digit in a one-layered perceptron happens by multiplying the initial image by a weight matrix, which allows us to visualize the network weights and see if they make any sense.\n",
    "\n",
    "Let's create a `weight_tensor` which will have a dimension of 784x10. This tensor can be obtained by calling the `net.parameters()` method. In this example, if we want to see if our number is 0 or not, we will multiply input digit by `weight_tensor[0]` and pass the result through a softmax normalization to get the answer. This results in the weight tensor elements somewhat resembling the average shape of the digit it classifies:"
   ]
  },
  {
   "cell_type": "code",
   "execution_count": 18,
   "metadata": {},
   "outputs": [
    {
     "data": {
      "image/png": "[encoded data removed]",
      "text/plain": [
       "<Figure size 1500x400 with 10 Axes>"
      ]
     },
     "metadata": {},
     "output_type": "display_data"
    }
   ],
   "source": [
    "weight_tensor = model.layers[1].weights[0].numpy().reshape(28,28,10)\n",
    "fig,ax = plt.subplots(1,10,figsize=(15,4))\n",
    "for i in range(10):\n",
    "    ax[i].imshow(weight_tensor[:,:,i], cmap='gray')\n",
    "    ax[i].axis('off')"
   ]
  },
  {
   "cell_type": "markdown",
   "metadata": {},
   "source": [
    "Bora testar numa image só de zoas aqui, ver se funciona mesmo"
   ]
  },
  {
   "cell_type": "code",
   "execution_count": 19,
   "metadata": {},
   "outputs": [
    {
     "name": "stdout",
     "output_type": "stream",
     "text": [
      "(10000, 28, 28)\n",
      "1/1 [==============================] - 0s 56ms/step\n",
      "The predicted class is: 7\n",
      "Actually, it is a: 7\n"
     ]
    },
    {
     "data": {
      "text/plain": [
       "<matplotlib.image.AxesImage at 0x7f656c667220>"
      ]
     },
     "execution_count": 19,
     "metadata": {},
     "output_type": "execute_result"
    },
    {
     "data": {
      "image/png": "[encoded data removed]",
      "text/plain": [
       "<Figure size 640x480 with 1 Axes>"
      ]
     },
     "metadata": {},
     "output_type": "display_data"
    }
   ],
   "source": [
    "# Let's assume `single_image` is your test image and it's a numpy array with shape (28, 28)\n",
    "single_image = x_test[0]\n",
    "print(x_test.shape)\n",
    "single_image = single_image.reshape(1, 28, 28)\n",
    "\n",
    "# Now, you can use the model to predict the class of the single image\n",
    "predictions = model.predict(single_image)\n",
    "\n",
    "# The output `predictions` is a 2D array with shape (1, 10), where 10 is the number of classes.\n",
    "# Each value in `predictions[0]` is the model's confidence that the image belongs to that class.\n",
    "# You can get the predicted class by finding the index of the maximum value.\n",
    "predicted_class = np.argmax(predictions[0])\n",
    "\n",
    "print(\"The predicted class is:\", predicted_class)\n",
    "print(\"Actually, it is a:\", y_test[0])\n",
    "fig,ax = plt.subplots(1,1)\n",
    "ax.imshow(x_test[0], cmap='gray')"
   ]
  },
  {
   "cell_type": "code",
   "execution_count": 28,
   "metadata": {},
   "outputs": [
    {
     "name": "stdout",
     "output_type": "stream",
     "text": [
      "(28, 28)\n",
      "1/1 [==============================] - 0s 13ms/step\n",
      "The predicted class is: 8\n"
     ]
    },
    {
     "data": {
      "image/png": "[encoded data removed]",
      "text/plain": [
       "<Figure size 640x480 with 1 Axes>"
      ]
     },
     "metadata": {},
     "output_type": "display_data"
    }
   ],
   "source": [
    "from PIL import Image\n",
    "import numpy as np\n",
    "from PIL import ImageOps\n",
    "\n",
    "# Load the image\n",
    "img = Image.open('Images/oito.png')\n",
    "\n",
    "\n",
    "img = img.convert('L')\n",
    "img = ImageOps.invert(img)\n",
    "\n",
    "# Convert the image data to a numpy array and normalize pixel values to be between 0 and 1\n",
    "img_array = np.array(img) / 255.0\n",
    "np.savetxt('output.txt', img_array, fmt='%f')\n",
    "print(img_array.shape)\n",
    "fig,ax = plt.subplots(1,1)\n",
    "ax.imshow(img_array, cmap='gray')\n",
    "\n",
    "# Now, you can use the model to predict the class of the image\n",
    "predictions = model.predict(img_array.reshape(1, 28, 28))\n",
    "\n",
    "# The output `predictions` is a 2D array with shape (1, 10), where 10 is the number of classes.\n",
    "# Each value in `predictions[0]` is the model's confidence that the image belongs to that class.\n",
    "# You can get the predicted class by finding the index of the maximum value.\n",
    "predicted_class = np.argmax(predictions[0])\n",
    "\n",
    "print(\"The predicted class is:\", predicted_class)"
   ]
  },
  {
   "cell_type": "markdown",
   "metadata": {},
   "source": [
    "## Takeaway \n",
    "\n",
    "Training a neural network in Keras requires just one line of code and tweaking a few parameters. We can see that a single-layer dense neural network shows relatively good performance, but we definitely want to get higher than 91% on accuracy! In the next unit, we will try to use multi-level perceptrons."
   ]
  }
 ],
 "metadata": {
  "kernelspec": {
   "display_name": "Python 3",
   "language": "python",
   "name": "python3"
  },
  "language_info": {
   "codemirror_mode": {
    "name": "ipython",
    "version": 3
   },
   "file_extension": ".py",
   "mimetype": "text/x-python",
   "name": "python",
   "nbconvert_exporter": "python",
   "pygments_lexer": "ipython3",
   "version": "3.10.13"
  }
 },
 "nbformat": 4,
 "nbformat_minor": 2
}
