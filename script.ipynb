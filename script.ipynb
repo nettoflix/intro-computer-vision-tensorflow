{
 "cells": [
  {
   "cell_type": "markdown",
   "metadata": {},
   "source": [
    "In computer vision, we normally solve one of the following problems:\n",
    "\n",
    "* Image Classification is the simplest task, when we need to classify an image into one of many pre-defined categories, for example, distinguish a cat from a dog on a photograph, or recognize a handwritten digit.\n",
    "\n",
    "* Object Detection is a bit more difficult task, in which we need to find known objects on the picture and localize them, i.e. return the bounding box for each of recognized objects.\n",
    "\n",
    "* Segmentation is similar to object detection, but instead of giving bounding box we need to return an exact pixel map outlining each of the recognized objects.\n",
    "\n",
    "![vision.png](Images/vision.png)"
   ]
  },
  {
   "cell_type": "markdown",
   "metadata": {},
   "source": [
    "## Images as Tensors\n",
    "\n",
    "Computer Vision works with Images. As you probably know, images consist of pixels, so they can be thought of as a rectangular collection (array) of pixels.\n",
    "\n",
    "In the first part of this tutorial, we will deal with handwritten digit recognition. We will use the MNIST dataset, which consists of grayscale images of handwritten digits, 28x28 pixels. Each image can be represented as 28x28 array, and elements of this array would denote intensity of corresponding pixel - either in the scale of range 0 to 1 (in which case floating point numbers are used), or 0 to 255 (integers). A popular python library called numpy is often used with computer vision tasks, because it allows to operate with multidimensional arrays effectively.\n",
    "\n",
    "To deal with color images, we need some way to represent colors. In most cases, we represent each pixel by 3 intensity values, corresponding to Red (R), Green (G) and Blue (B) components. This color encoding is called RGB, and thus color image of size W×H will be represented as an array of size H×W×3 (sometimes the order of components might be different, but the idea is the same).\n",
    "\n",
    "Multi-dimensional arrays are also called tensors. Using tensors to represent images also has an advantage, because we can use an extra dimension to store a sequence of images. For example, to represent a video fragment consisting of 200 frames with 800x600 dimension, we may use the tensor of size 200x600x800x3.\n",
    "## TensorFlow and Keras versions\n"
   ]
  },
  {
   "cell_type": "code",
   "execution_count": 2,
   "metadata": {},
   "outputs": [
    {
     "name": "stderr",
     "output_type": "stream",
     "text": [
      "2023-12-30 07:46:56.966423: I external/local_tsl/tsl/cuda/cudart_stub.cc:31] Could not find cuda drivers on your machine, GPU will not be used.\n",
      "2023-12-30 07:46:56.999338: E external/local_xla/xla/stream_executor/cuda/cuda_dnn.cc:9261] Unable to register cuDNN factory: Attempting to register factory for plugin cuDNN when one has already been registered\n",
      "2023-12-30 07:46:56.999374: E external/local_xla/xla/stream_executor/cuda/cuda_fft.cc:607] Unable to register cuFFT factory: Attempting to register factory for plugin cuFFT when one has already been registered\n",
      "2023-12-30 07:46:57.000661: E external/local_xla/xla/stream_executor/cuda/cuda_blas.cc:1515] Unable to register cuBLAS factory: Attempting to register factory for plugin cuBLAS when one has already been registered\n",
      "2023-12-30 07:46:57.006409: I external/local_tsl/tsl/cuda/cudart_stub.cc:31] Could not find cuda drivers on your machine, GPU will not be used.\n",
      "2023-12-30 07:46:57.006912: I tensorflow/core/platform/cpu_feature_guard.cc:182] This TensorFlow binary is optimized to use available CPU instructions in performance-critical operations.\n",
      "To enable the following instructions: AVX2 FMA, in other operations, rebuild TensorFlow with the appropriate compiler flags.\n",
      "2023-12-30 07:46:57.867135: W tensorflow/compiler/tf2tensorrt/utils/py_utils.cc:38] TF-TRT Warning: Could not find TensorRT\n"
     ]
    },
    {
     "name": "stdout",
     "output_type": "stream",
     "text": [
      "2.15.0\n"
     ]
    }
   ],
   "source": [
    "#Import the packages needed.\n",
    "import tensorflow as tf\n",
    "from tensorflow import keras\n",
    "import matplotlib.pyplot as plt\n",
    "import numpy as np\n",
    "import os\n",
    "\n",
    "# In this tutorial, we will be training a lot of models. In order to use GPU memory cautiously,\n",
    "# we will set tensorflow option to grow GPU memory allocation when required.\n",
    "physical_devices = tf.config.list_physical_devices('GPU') \n",
    "if len(physical_devices)>0:\n",
    "    tf.config.experimental.set_memory_growth(physical_devices[0], True)\n",
    "\n",
    "print(tf.__version__)"
   ]
  },
  {
   "cell_type": "markdown",
   "metadata": {},
   "source": [
    "TensorFlow is now at version 2, and it differs significantly between versions 1 and 2. Thus it is important to check that we have correct version, otherwise the code is likely not to work.\n",
    "\n",
    "In version 2 TensorFlow added a higher-level neural network construction API called Keras. With Keras, most model building steps can be done in a much simpler way. This has made Keras a preferred way to start training deep learning networks. Only switching to pure TensorFlow when you need to develop some custom architectures for research or more complex scenarios. Since Keras is part of TensorFlow, the terms are used interchangeably and many times when someone says TensorFlow they are actually talking about the Keras.\n",
    "\n",
    "In this tutorial, we will focused on developing neural networks using Keras in TensorFlow 2.\n",
    "\n",
    "## Loading the MNIST Dataset\n",
    "\n",
    "Keras has a [number of datasets](https://www.TensorFlow.org/api_docs/python/tf/keras/datasets) available right from the library. Here we are using the well-known [MNIST](http://yann.lecun.com/exdb/mnist/) dataset of handwritten digits, available through `tf.keras.datasets.mnist`. It has a function `load_data()` that returns train and test MNIST datasets.\n",
    "\n",
    "When using your own notebooks, you can experiment with the other built in datasets, in particular [FashionMNIST](https://www.TensorFlow.org/api_docs/python/tf/keras/datasets/fashion_mnist). It has exactly the same shape as MNIST, but contains outlines of different clothing types. You should be able to experiment with FashionMNIST by simply replacing the dataset name below.\n"
   ]
  },
  {
   "cell_type": "code",
   "execution_count": 3,
   "metadata": {},
   "outputs": [
    {
     "name": "stdout",
     "output_type": "stream",
     "text": [
      "(60000, 28, 28) (60000,)\n",
      "(10000, 28, 28) (10000,)\n"
     ]
    }
   ],
   "source": [
    "(x_train,y_train),(x_test,y_test) = keras.datasets.mnist.load_data()\n",
    "\n",
    "print(x_train.shape, y_train.shape)\n",
    "print(x_test.shape,y_test.shape)"
   ]
  },
  {
   "cell_type": "markdown",
   "metadata": {},
   "source": [
    "## Visualize the digits dataset\n",
    "Now that we have downloaded the dataset we can visualize some of the digits"
   ]
  },
  {
   "cell_type": "code",
   "execution_count": 4,
   "metadata": {},
   "outputs": [
    {
     "data": {
      "image/png": "[encoded data removed]",
      "text/plain": [
       "<Figure size 640x480 with 8 Axes>"
      ]
     },
     "metadata": {},
     "output_type": "display_data"
    }
   ],
   "source": [
    "fig, ax = plt.subplots(1, 8)\n",
    "for i in range(8):\n",
    "    ax[i].imshow(x_train[i])\n",
    "    ax[i].set_title(y_train[i])\n",
    "    ax[i].axis('off')"
   ]
  },
  {
   "cell_type": "markdown",
   "metadata": {},
   "source": [
    "## Dataset structure\n",
    "\n",
    "We have a total of 60000 training images (stored in `x_train`) and 10000 testing images (in `x_test`). Labels corresponding to those images are contained in `y_train` and `y_test` accordingly."
   ]
  },
  {
   "cell_type": "code",
   "execution_count": 5,
   "metadata": {},
   "outputs": [
    {
     "name": "stdout",
     "output_type": "stream",
     "text": [
      "Training samples: 60000\n",
      "Test samples: 10000\n",
      "Tensor size: (28, 28)\n",
      "First 10 digits are: [5 0 4 1 9 2 1 3 1 4]\n",
      "Type of data is  <class 'numpy.ndarray'>\n"
     ]
    }
   ],
   "source": [
    "print('Training samples:',len(x_train))\n",
    "print('Test samples:',len(x_test))\n",
    "\n",
    "print('Tensor size:',x_train[0].shape)\n",
    "print('First 10 digits are:', y_train[:10])\n",
    "print('Type of data is ',type(x_train))"
   ]
  },
  {
   "cell_type": "markdown",
   "metadata": {},
   "source": [
    "As you can see, the type of data is numpy array, which allows us to manipulate it using any numpy operations. All pixels of the images are represented by integer numbers from 0 to 255:"
   ]
  },
  {
   "cell_type": "code",
   "execution_count": 6,
   "metadata": {},
   "outputs": [
    {
     "name": "stdout",
     "output_type": "stream",
     "text": [
      "Min intensity value:  0\n",
      "Max intensity value:  255\n"
     ]
    }
   ],
   "source": [
    "print('Min intensity value: ',x_train.min())\n",
    "print('Max intensity value: ',x_train.max())"
   ]
  },
  {
   "cell_type": "markdown",
   "metadata": {},
   "source": [
    "The reason it is between 0 and 255 is because of how color is represented in a binary format. RGB (red, green, blue) are each represented as a 0-255 value to create digital colors.  If we load any image from file using [OpenCV](https://opencv.org/) or [PIL](https://pillow.readthedocs.io/en/stable/) you will end up having numpy array with pixel intensities in the same range [0..255].\n",
    "\n",
    "> Note: If you are loading color image, the shape of the array would be slightly different, each pixel contains 3 color values (R,G and B). Thus the image 300x300 pixels will be represented by 300x300x3 numpy array.\n",
    "\n",
    "If we want to feed our images to the neural network, it is important to make sure that all values are scaled to the range [**0 - 1**] before we start training. So, we will rescale the dataset in order to have all values in the required normalized range:"
   ]
  },
  {
   "cell_type": "code",
   "execution_count": 7,
   "metadata": {},
   "outputs": [],
   "source": [
    "x_train = x_train.astype(np.float32)/255.0\n",
    "x_test = x_test.astype(np.float32)/255.0"
   ]
  },
  {
   "cell_type": "markdown",
   "metadata": {},
   "source": [
    "Now we have the data, and we are ready to start training our first neural network!\n",
    "# Training a dense neural network\n",
    "\n",
    "The handwritten digit recognition is a classification problem. We will start with the simplest possible approach for image classification - a fully-connected neural network (which is also called a *perceptron*). "
   ]
  },
  {
   "cell_type": "markdown",
   "metadata": {},
   "source": [
    "A basic **neural network** consists of a number of **layers**. The simplest network would include just one fully-connected layer, which is called **Dense** layer, with 784 inputs (one input for each pixel of the input image) and 10 outputs (one output for each class). It is called dense because it contains all possible connections between 784 inputs and 10 outputs, 7840 total connections.\n",
    "\n",
    "As we discussed above, the dimension of our digit images is $28\\times28$. Because the input dimension of a fully-connected layer is 784, we need to insert another layer into the network, called **Flatten**, to change tensor shape from $28\\times28$ to $784$.\n",
    "\n",
    "We want $n$-th output of the network to return the probability of the input digit being equal to $n$. Because the output of a fully-connected layer is not normalized to be between 0 and 1, it cannot be thought of as probability. To turn it into a probability we need to apply another layer called **Softmax**.\n",
    "\n",
    "\n",
    "It can be defined in Keras in the following way, using `Sequential` syntax:"
   ]
  },
  {
   "cell_type": "code",
   "execution_count": 8,
   "metadata": {},
   "outputs": [
    {
     "name": "stdout",
     "output_type": "stream",
     "text": [
      "Model: \"sequential\"\n",
      "_________________________________________________________________\n",
      " Layer (type)                Output Shape              Param #   \n",
      "=================================================================\n",
      " flatten (Flatten)           (None, 784)               0         \n",
      "                                                                 \n",
      " dense (Dense)               (None, 10)                7850      \n",
      "                                                                 \n",
      "=================================================================\n",
      "Total params: 7850 (30.66 KB)\n",
      "Trainable params: 7850 (30.66 KB)\n",
      "Non-trainable params: 0 (0.00 Byte)\n",
      "_________________________________________________________________\n"
     ]
    }
   ],
   "source": [
    "model = keras.models.Sequential([\n",
    "        keras.layers.Flatten(input_shape=(28,28)), \n",
    "        keras.layers.Dense(10,activation='softmax')])\n",
    "model.summary()"
   ]
  },
  {
   "cell_type": "markdown",
   "metadata": {},
   "source": [
    "Once you have defined a network, you can call the `summary` method to display its architecture and other useful information, such as number of parameters in each layer.\n",
    "\n",
    "When defining a network, it is important to remember to specify the dimension of the input tensor with the `input_shape` parameter. If you do not do that, Keras is unable to understand how many neurons are required to construct each layer. If `input_shape` is not provided you can still train the network but the summary will be incomplete.\n",
    "\n",
    "## Anatomy of a Dense Layer\n",
    "\n",
    "I have mentioned above that a dense layer contains 7840 weighted connections, however, in the `summary` above we see that our dense layer has 7850 parameters. Let's take some time to understand why.\n",
    "\n",
    "The network input contains 784 pixels, which can be represented by a vector $x$ with 784 numbers. To get an output $z$ of dimension 10 we can multiply it by a matrix $W$ with dimensions $10\\times784$: $z=W\\times x$.\n",
    "\n",
    "However, such multiplication defines a linear transformation without shift. Imagine we had only one input value, then the matrix would have just one weight, and the equation $W\\times x$ would represent a straight line which goes through the point $(0,0)$. This would not be able to perform arbitrary classifications, because in some cases we also want some **shift** to happen. That means that we need a full equation for a straight line: $z=W\\times x + b$, where $b$ is the **bias**.\n",
    "\n",
    "Similarly, in a dense layer with 784 inputs and 10 outputs, the output would be calculated as $W\\times x + b$, where the dimension of **weight** matrix $W$ is $784\\times 10$, and the dimension of a **bias** vector $b$ is 10. This gives us $784\\times 10 + 10 = 7850$ parameters. \n",
    "\n",
    "In Keras, we can get the weight matrix and bias from the `layers` property. Our dense layer is a second layer from the top, thus it can be access using `model.layers[1]`."
   ]
  },
  {
   "cell_type": "code",
   "execution_count": 9,
   "metadata": {},
   "outputs": [
    {
     "data": {
      "text/plain": [
       "[<tf.Variable 'dense/kernel:0' shape=(784, 10) dtype=float32, numpy=\n",
       " array([[ 0.03568134, -0.03328452,  0.03380691, ...,  0.04682494,\n",
       "          0.04328681, -0.00198853],\n",
       "        [ 0.07000447, -0.06402424,  0.0391323 , ..., -0.01088154,\n",
       "         -0.05619375,  0.07775197],\n",
       "        [ 0.05891424,  0.02961387,  0.06738587, ...,  0.06501936,\n",
       "         -0.0333911 ,  0.0196252 ],\n",
       "        ...,\n",
       "        [ 0.01782274,  0.06556059,  0.07243947, ..., -0.03399139,\n",
       "          0.05180187,  0.06083531],\n",
       "        [-0.00447731, -0.03544777,  0.05218587, ..., -0.06089313,\n",
       "         -0.06877362,  0.02228404],\n",
       "        [-0.06546653,  0.06410492, -0.06454305, ..., -0.06995707,\n",
       "         -0.06666294, -0.01630469]], dtype=float32)>,\n",
       " <tf.Variable 'dense/bias:0' shape=(10,) dtype=float32, numpy=array([0., 0., 0., 0., 0., 0., 0., 0., 0., 0.], dtype=float32)>]"
      ]
     },
     "execution_count": 9,
     "metadata": {},
     "output_type": "execute_result"
    }
   ],
   "source": [
    "model.layers[1].weights"
   ]
  },
  {
   "cell_type": "markdown",
   "metadata": {},
   "source": [
    "As you can see, `weights` property of a layer returns a list of all weights, in our case it is the actual weight matrix called **kernel**, and a **bias**."
   ]
  },
  {
   "cell_type": "markdown",
   "metadata": {},
   "source": [
    "## Training the network\n",
    "\n",
    "A network defined this way can take any digit as input and produce a vector of probabilities as an output. Let's see how this network performs by giving it a digit from our dataset:"
   ]
  },
  {
   "cell_type": "code",
   "execution_count": 10,
   "metadata": {},
   "outputs": [
    {
     "name": "stdout",
     "output_type": "stream",
     "text": [
      "Digit to be predicted:  5\n"
     ]
    },
    {
     "data": {
      "text/plain": [
       "<tf.Tensor: shape=(1, 10), dtype=float32, numpy=\n",
       "array([[0.06399906, 0.07190859, 0.04231958, 0.08564485, 0.04518072,\n",
       "        0.12076484, 0.0611035 , 0.15098034, 0.20491208, 0.15318646]],\n",
       "      dtype=float32)>"
      ]
     },
     "execution_count": 10,
     "metadata": {},
     "output_type": "execute_result"
    }
   ],
   "source": [
    "print('Digit to be predicted: ',y_train[0])\n",
    "model(np.expand_dims(x_train[0],0))"
   ]
  },
  {
   "cell_type": "markdown",
   "metadata": {},
   "source": [
    "The output of the network is the **tensor**, represented by the `ft.Tensor` object. The tensor type is very similar to a numpy array, however TensorFlow can operate on tensors very efficiently, shifting computations to GPU for better performance.\n",
    "\n",
    "> **Note**: In fact, low-level TensorFlow API contains all basic tensor operations, similar to corresponding numpy operations on arrays. For example, you can use `tf.exp` on tensors, and it would be equivalent to calling `np.exp` on numpy arrays.\n",
    "\n",
    "As you can see the network predicts similar probabilities for each digit. This is because it has not been trained on how to recognize the digits yet. We need to give it our training data to train it on our dataset.\n",
    "\n",
    "To train the model we first need to **compile** it:"
   ]
  },
  {
   "cell_type": "code",
   "execution_count": 11,
   "metadata": {},
   "outputs": [],
   "source": [
    "model.compile(optimizer='sgd',loss='categorical_crossentropy')"
   ]
  },
  {
   "cell_type": "markdown",
   "metadata": {},
   "source": [
    "When building a model, we specify two important things:\n",
    "* An **optimizer** that will be used to minimize the error. The simplest optimizer is **stochastic gradient descent**, or SGD; but with more complex networks other optimizers are often used, such as **Adam**\n",
    "* A **loss function** will be used on the output of the network to obtain the error, which we will then minimize. For this model we will use **categorical cross-entropy** as the loss function.\n",
    "\n",
    "To train the network, we need to provide an output for each training sample. We have **multi-class classification** problem since the network outputs probabilities for each digit from 0 to 9 (digits). \n",
    "\n",
    "We need the expected outputs to have the same layout, i.e. be a 10-number vector that contains 1 in only one position. This is called **one-hot encoding**. For example, digit 5 will be one-hot-encoded by a vector (0 0 0 0 0 1 0 0 0 0).\n",
    "\n",
    "We can easily one-hot-encode training labels using Keras API:"
   ]
  },
  {
   "cell_type": "code",
   "execution_count": 12,
   "metadata": {},
   "outputs": [
    {
     "name": "stdout",
     "output_type": "stream",
     "text": [
      "First 3 training labels: [5 0 4]\n",
      "One-hot-encoded version:\n",
      " [[0. 0. 0. 0. 0. 1. 0. 0. 0. 0.]\n",
      " [1. 0. 0. 0. 0. 0. 0. 0. 0. 0.]\n",
      " [0. 0. 0. 0. 1. 0. 0. 0. 0. 0.]]\n"
     ]
    }
   ],
   "source": [
    "y_train_onehot = keras.utils.to_categorical(y_train)\n",
    "y_test_onehot = keras.utils.to_categorical(y_test)\n",
    "print(\"First 3 training labels:\",y_train[:3])\n",
    "print(\"One-hot-encoded version:\\n\",y_train_onehot[:3])"
   ]
  },
  {
   "cell_type": "markdown",
   "metadata": {},
   "source": [
    "Now, to do the actual training, we call the `fit` function:"
   ]
  },
  {
   "cell_type": "code",
   "execution_count": 13,
   "metadata": {},
   "outputs": [
    {
     "name": "stdout",
     "output_type": "stream",
     "text": [
      "1875/1875 [==============================] - 2s 837us/step - loss: 0.7777\n"
     ]
    },
    {
     "data": {
      "text/plain": [
       "<keras.src.callbacks.History at 0x7f5c29955720>"
      ]
     },
     "execution_count": 13,
     "metadata": {},
     "output_type": "execute_result"
    }
   ],
   "source": [
    "model.fit(x_train,y_train_onehot)"
   ]
  },
  {
   "cell_type": "markdown",
   "metadata": {},
   "source": [
    "## Monitoring training\n",
    "\n",
    "This training only loops through the dataset once, which is called one **epoch**. Normally we want training to go on for several epochs, and we can specify the number of epochs we want using a parameter.\n",
    "\n",
    "Also, it is useful to evaluate the quality of the model on test and/or a validation datasets. It's important to test the model with unseen data because this will help indicate how well the model **generalizes** to other data beyond our dataset. To evaluate the error in between epochs, we can pass in validation data:"
   ]
  },
  {
   "cell_type": "code",
   "execution_count": 16,
   "metadata": {},
   "outputs": [
    {
     "name": "stdout",
     "output_type": "stream",
     "text": [
      "Epoch 1/100\n",
      "  63/1875 [>.............................] - ETA: 1s - loss: 0.3681"
     ]
    },
    {
     "name": "stdout",
     "output_type": "stream",
     "text": [
      "1875/1875 [==============================] - 2s 995us/step - loss: 0.3596 - val_loss: 0.3365\n",
      "Epoch 2/100\n",
      "1875/1875 [==============================] - 2s 945us/step - loss: 0.3478 - val_loss: 0.3270\n",
      "Epoch 3/100\n",
      "1875/1875 [==============================] - 2s 941us/step - loss: 0.3388 - val_loss: 0.3198\n",
      "Epoch 4/100\n",
      "1875/1875 [==============================] - 2s 934us/step - loss: 0.3316 - val_loss: 0.3147\n",
      "Epoch 5/100\n",
      "1875/1875 [==============================] - 2s 938us/step - loss: 0.3258 - val_loss: 0.3104\n",
      "Epoch 6/100\n",
      "1875/1875 [==============================] - 2s 942us/step - loss: 0.3209 - val_loss: 0.3060\n",
      "Epoch 7/100\n",
      "1875/1875 [==============================] - 2s 963us/step - loss: 0.3168 - val_loss: 0.3039\n",
      "Epoch 8/100\n",
      "1875/1875 [==============================] - 2s 948us/step - loss: 0.3131 - val_loss: 0.3006\n",
      "Epoch 9/100\n",
      "1875/1875 [==============================] - 2s 962us/step - loss: 0.3100 - val_loss: 0.2978\n",
      "Epoch 10/100\n",
      "1875/1875 [==============================] - 2s 955us/step - loss: 0.3071 - val_loss: 0.2957\n",
      "Epoch 11/100\n",
      "1875/1875 [==============================] - 2s 930us/step - loss: 0.3045 - val_loss: 0.2933\n",
      "Epoch 12/100\n",
      "1875/1875 [==============================] - 2s 958us/step - loss: 0.3021 - val_loss: 0.2927\n",
      "Epoch 13/100\n",
      "1875/1875 [==============================] - 2s 969us/step - loss: 0.3001 - val_loss: 0.2918\n",
      "Epoch 14/100\n",
      "1875/1875 [==============================] - 2s 940us/step - loss: 0.2981 - val_loss: 0.2894\n",
      "Epoch 15/100\n",
      "1875/1875 [==============================] - 2s 953us/step - loss: 0.2963 - val_loss: 0.2883\n",
      "Epoch 16/100\n",
      "1875/1875 [==============================] - 2s 949us/step - loss: 0.2948 - val_loss: 0.2869\n",
      "Epoch 17/100\n",
      "1875/1875 [==============================] - 2s 930us/step - loss: 0.2933 - val_loss: 0.2859\n",
      "Epoch 18/100\n",
      "1875/1875 [==============================] - 2s 981us/step - loss: 0.2917 - val_loss: 0.2853\n",
      "Epoch 19/100\n",
      "1875/1875 [==============================] - 2s 972us/step - loss: 0.2904 - val_loss: 0.2837\n",
      "Epoch 20/100\n",
      "1875/1875 [==============================] - 2s 945us/step - loss: 0.2892 - val_loss: 0.2831\n",
      "Epoch 21/100\n",
      "1875/1875 [==============================] - 2s 937us/step - loss: 0.2881 - val_loss: 0.2828\n",
      "Epoch 22/100\n",
      "1875/1875 [==============================] - 2s 950us/step - loss: 0.2869 - val_loss: 0.2817\n",
      "Epoch 23/100\n",
      "1875/1875 [==============================] - 2s 950us/step - loss: 0.2859 - val_loss: 0.2819\n",
      "Epoch 24/100\n",
      "1875/1875 [==============================] - 2s 990us/step - loss: 0.2848 - val_loss: 0.2813\n",
      "Epoch 25/100\n",
      "1875/1875 [==============================] - 2s 935us/step - loss: 0.2839 - val_loss: 0.2800\n",
      "Epoch 26/100\n",
      "1875/1875 [==============================] - 2s 955us/step - loss: 0.2830 - val_loss: 0.2803\n",
      "Epoch 27/100\n",
      "1875/1875 [==============================] - 2s 953us/step - loss: 0.2822 - val_loss: 0.2787\n",
      "Epoch 28/100\n",
      "1875/1875 [==============================] - 2s 935us/step - loss: 0.2812 - val_loss: 0.2794\n",
      "Epoch 29/100\n",
      "1875/1875 [==============================] - 2s 941us/step - loss: 0.2806 - val_loss: 0.2782\n",
      "Epoch 30/100\n",
      "1875/1875 [==============================] - 2s 961us/step - loss: 0.2798 - val_loss: 0.2774\n",
      "Epoch 31/100\n",
      "1875/1875 [==============================] - 2s 928us/step - loss: 0.2790 - val_loss: 0.2768\n",
      "Epoch 32/100\n",
      "1875/1875 [==============================] - 2s 942us/step - loss: 0.2783 - val_loss: 0.2772\n",
      "Epoch 33/100\n",
      "1875/1875 [==============================] - 2s 953us/step - loss: 0.2777 - val_loss: 0.2763\n",
      "Epoch 34/100\n",
      "1875/1875 [==============================] - 2s 938us/step - loss: 0.2771 - val_loss: 0.2770\n",
      "Epoch 35/100\n",
      "1875/1875 [==============================] - 2s 949us/step - loss: 0.2764 - val_loss: 0.2759\n",
      "Epoch 36/100\n",
      "1875/1875 [==============================] - 2s 969us/step - loss: 0.2759 - val_loss: 0.2754\n",
      "Epoch 37/100\n",
      "1875/1875 [==============================] - 2s 927us/step - loss: 0.2753 - val_loss: 0.2753\n",
      "Epoch 38/100\n",
      "1875/1875 [==============================] - 2s 951us/step - loss: 0.2747 - val_loss: 0.2747\n",
      "Epoch 39/100\n",
      "1875/1875 [==============================] - 2s 953us/step - loss: 0.2742 - val_loss: 0.2747\n",
      "Epoch 40/100\n",
      "1875/1875 [==============================] - 2s 941us/step - loss: 0.2736 - val_loss: 0.2743\n",
      "Epoch 41/100\n",
      "1875/1875 [==============================] - 2s 987us/step - loss: 0.2732 - val_loss: 0.2740\n",
      "Epoch 42/100\n",
      "1875/1875 [==============================] - 2s 945us/step - loss: 0.2726 - val_loss: 0.2739\n",
      "Epoch 43/100\n",
      "1875/1875 [==============================] - 2s 954us/step - loss: 0.2722 - val_loss: 0.2733\n",
      "Epoch 44/100\n",
      "1875/1875 [==============================] - 2s 944us/step - loss: 0.2716 - val_loss: 0.2738\n",
      "Epoch 45/100\n",
      "1875/1875 [==============================] - 2s 941us/step - loss: 0.2713 - val_loss: 0.2724\n",
      "Epoch 46/100\n",
      "1875/1875 [==============================] - 2s 940us/step - loss: 0.2708 - val_loss: 0.2727\n",
      "Epoch 47/100\n",
      "1875/1875 [==============================] - 2s 956us/step - loss: 0.2703 - val_loss: 0.2725\n",
      "Epoch 48/100\n",
      "1875/1875 [==============================] - 2s 937us/step - loss: 0.2699 - val_loss: 0.2721\n",
      "Epoch 49/100\n",
      "1875/1875 [==============================] - 2s 932us/step - loss: 0.2696 - val_loss: 0.2721\n",
      "Epoch 50/100\n",
      "1875/1875 [==============================] - 2s 938us/step - loss: 0.2692 - val_loss: 0.2719\n",
      "Epoch 51/100\n",
      "1875/1875 [==============================] - 2s 940us/step - loss: 0.2687 - val_loss: 0.2722\n",
      "Epoch 52/100\n",
      "1875/1875 [==============================] - 2s 940us/step - loss: 0.2684 - val_loss: 0.2722\n",
      "Epoch 53/100\n",
      "1875/1875 [==============================] - 2s 952us/step - loss: 0.2681 - val_loss: 0.2719\n",
      "Epoch 54/100\n",
      "1875/1875 [==============================] - 2s 928us/step - loss: 0.2677 - val_loss: 0.2713\n",
      "Epoch 55/100\n",
      "1875/1875 [==============================] - 2s 919us/step - loss: 0.2674 - val_loss: 0.2708\n",
      "Epoch 56/100\n",
      "1875/1875 [==============================] - 2s 927us/step - loss: 0.2669 - val_loss: 0.2706\n",
      "Epoch 57/100\n",
      "1875/1875 [==============================] - 2s 927us/step - loss: 0.2667 - val_loss: 0.2709\n",
      "Epoch 58/100\n",
      "1875/1875 [==============================] - 2s 932us/step - loss: 0.2664 - val_loss: 0.2706\n",
      "Epoch 59/100\n",
      "1875/1875 [==============================] - 2s 947us/step - loss: 0.2660 - val_loss: 0.2711\n",
      "Epoch 60/100\n",
      "1875/1875 [==============================] - 2s 936us/step - loss: 0.2657 - val_loss: 0.2704\n",
      "Epoch 61/100\n",
      "1875/1875 [==============================] - 2s 918us/step - loss: 0.2654 - val_loss: 0.2703\n",
      "Epoch 62/100\n",
      "1875/1875 [==============================] - 2s 928us/step - loss: 0.2652 - val_loss: 0.2700\n",
      "Epoch 63/100\n",
      "1875/1875 [==============================] - 2s 943us/step - loss: 0.2648 - val_loss: 0.2696\n",
      "Epoch 64/100\n",
      "1875/1875 [==============================] - 2s 927us/step - loss: 0.2644 - val_loss: 0.2701\n",
      "Epoch 65/100\n",
      "1875/1875 [==============================] - 2s 946us/step - loss: 0.2641 - val_loss: 0.2699\n",
      "Epoch 66/100\n",
      "1875/1875 [==============================] - 2s 944us/step - loss: 0.2640 - val_loss: 0.2705\n",
      "Epoch 67/100\n",
      "1875/1875 [==============================] - 2s 927us/step - loss: 0.2638 - val_loss: 0.2699\n",
      "Epoch 68/100\n",
      "1875/1875 [==============================] - 2s 930us/step - loss: 0.2634 - val_loss: 0.2702\n",
      "Epoch 69/100\n",
      "1875/1875 [==============================] - 2s 949us/step - loss: 0.2632 - val_loss: 0.2695\n",
      "Epoch 70/100\n",
      "1875/1875 [==============================] - 2s 953us/step - loss: 0.2629 - val_loss: 0.2690\n",
      "Epoch 71/100\n",
      "1875/1875 [==============================] - 2s 934us/step - loss: 0.2628 - val_loss: 0.2691\n",
      "Epoch 72/100\n",
      "1875/1875 [==============================] - 2s 944us/step - loss: 0.2625 - val_loss: 0.2693\n",
      "Epoch 73/100\n",
      "1875/1875 [==============================] - 2s 925us/step - loss: 0.2621 - val_loss: 0.2683\n",
      "Epoch 74/100\n",
      "1875/1875 [==============================] - 2s 957us/step - loss: 0.2620 - val_loss: 0.2686\n",
      "Epoch 75/100\n",
      "1875/1875 [==============================] - 2s 947us/step - loss: 0.2617 - val_loss: 0.2690\n",
      "Epoch 76/100\n",
      "1875/1875 [==============================] - 2s 955us/step - loss: 0.2615 - val_loss: 0.2690\n",
      "Epoch 77/100\n",
      "1875/1875 [==============================] - 2s 942us/step - loss: 0.2613 - val_loss: 0.2687\n",
      "Epoch 78/100\n",
      "1875/1875 [==============================] - 2s 950us/step - loss: 0.2610 - val_loss: 0.2688\n",
      "Epoch 79/100\n",
      "1875/1875 [==============================] - 2s 979us/step - loss: 0.2608 - val_loss: 0.2683\n",
      "Epoch 80/100\n",
      "1875/1875 [==============================] - 2s 919us/step - loss: 0.2606 - val_loss: 0.2685\n",
      "Epoch 81/100\n",
      "1875/1875 [==============================] - 2s 944us/step - loss: 0.2603 - val_loss: 0.2678\n",
      "Epoch 82/100\n",
      "1875/1875 [==============================] - 2s 955us/step - loss: 0.2602 - val_loss: 0.2681\n",
      "Epoch 83/100\n",
      "1875/1875 [==============================] - 2s 934us/step - loss: 0.2599 - val_loss: 0.2678\n",
      "Epoch 84/100\n",
      "1875/1875 [==============================] - 2s 942us/step - loss: 0.2598 - val_loss: 0.2676\n",
      "Epoch 85/100\n",
      "1875/1875 [==============================] - 2s 932us/step - loss: 0.2596 - val_loss: 0.2685\n",
      "Epoch 86/100\n",
      "1875/1875 [==============================] - 2s 926us/step - loss: 0.2594 - val_loss: 0.2681\n",
      "Epoch 87/100\n",
      "1875/1875 [==============================] - 2s 943us/step - loss: 0.2592 - val_loss: 0.2678\n",
      "Epoch 88/100\n",
      "1875/1875 [==============================] - 2s 950us/step - loss: 0.2590 - val_loss: 0.2678\n",
      "Epoch 89/100\n",
      "1875/1875 [==============================] - 2s 940us/step - loss: 0.2588 - val_loss: 0.2672\n",
      "Epoch 90/100\n",
      "1875/1875 [==============================] - 2s 936us/step - loss: 0.2587 - val_loss: 0.2678\n",
      "Epoch 91/100\n",
      "1875/1875 [==============================] - 2s 930us/step - loss: 0.2584 - val_loss: 0.2681\n",
      "Epoch 92/100\n",
      "1875/1875 [==============================] - 2s 933us/step - loss: 0.2582 - val_loss: 0.2673\n",
      "Epoch 93/100\n",
      "1875/1875 [==============================] - 2s 957us/step - loss: 0.2580 - val_loss: 0.2680\n",
      "Epoch 94/100\n",
      "1875/1875 [==============================] - 2s 931us/step - loss: 0.2579 - val_loss: 0.2671\n",
      "Epoch 95/100\n",
      "1875/1875 [==============================] - 2s 942us/step - loss: 0.2577 - val_loss: 0.2675\n",
      "Epoch 96/100\n",
      "1875/1875 [==============================] - 2s 941us/step - loss: 0.2575 - val_loss: 0.2671\n",
      "Epoch 97/100\n",
      "1875/1875 [==============================] - 2s 933us/step - loss: 0.2574 - val_loss: 0.2670\n",
      "Epoch 98/100\n",
      "1875/1875 [==============================] - 2s 936us/step - loss: 0.2572 - val_loss: 0.2675\n",
      "Epoch 99/100\n",
      "1875/1875 [==============================] - 2s 952us/step - loss: 0.2571 - val_loss: 0.2667\n",
      "Epoch 100/100\n",
      "1875/1875 [==============================] - 2s 922us/step - loss: 0.2569 - val_loss: 0.2669\n"
     ]
    }
   ],
   "source": [
    "hist = model.fit(x_train,y_train_onehot,validation_data=(x_test,y_test_onehot), epochs=100)"
   ]
  },
  {
   "cell_type": "markdown",
   "metadata": {},
   "source": [
    "The `fit` function returns the **history** object that contains the loss data for each training epoch. It can be used to visualize the loss on the graph:"
   ]
  },
  {
   "cell_type": "code",
   "execution_count": 17,
   "metadata": {},
   "outputs": [
    {
     "data": {
      "text/plain": [
       "<matplotlib.legend.Legend at 0x7f5c2973a440>"
      ]
     },
     "execution_count": 17,
     "metadata": {},
     "output_type": "execute_result"
    },
    {
     "data": {
      "image/png": "[encoded data removed]",
      "text/plain": [
       "<Figure size 640x480 with 1 Axes>"
      ]
     },
     "metadata": {},
     "output_type": "display_data"
    }
   ],
   "source": [
    "for x in ['loss','val_loss']:\n",
    "    plt.plot(hist.history[x], label=x)\n",
    "plt.legend()"
   ]
  },
  {
   "cell_type": "markdown",
   "metadata": {},
   "source": [
    "## Metrics and Minibatches\n",
    "\n",
    "The value of the loss function does not tell us a lot about the accuracy of the model. To measure accuracy, we would want to see the percentage of correctly classified digits from the test dataset. In fact, we can add accuracy as a **metric** during dataset compilation, and it would be displayed and reported all the way through the training:"
   ]
  },
  {
   "cell_type": "code",
   "execution_count": 19,
   "metadata": {},
   "outputs": [
    {
     "name": "stdout",
     "output_type": "stream",
     "text": [
      "Epoch 1/50\n"
     ]
    },
    {
     "name": "stdout",
     "output_type": "stream",
     "text": [
      "469/469 [==============================] - 1s 1ms/step - loss: 0.2558 - acc: 0.9297 - val_loss: 0.2668 - val_acc: 0.9243\n",
      "Epoch 2/50\n",
      "469/469 [==============================] - 1s 1ms/step - loss: 0.2557 - acc: 0.9297 - val_loss: 0.2670 - val_acc: 0.9239\n",
      "Epoch 3/50\n",
      "469/469 [==============================] - 1s 1ms/step - loss: 0.2557 - acc: 0.9296 - val_loss: 0.2672 - val_acc: 0.9234\n",
      "Epoch 4/50\n",
      "469/469 [==============================] - 1s 1ms/step - loss: 0.2557 - acc: 0.9299 - val_loss: 0.2668 - val_acc: 0.9242\n",
      "Epoch 5/50\n",
      "469/469 [==============================] - 1s 1ms/step - loss: 0.2556 - acc: 0.9298 - val_loss: 0.2667 - val_acc: 0.9246\n",
      "Epoch 6/50\n",
      "469/469 [==============================] - 1s 1ms/step - loss: 0.2556 - acc: 0.9298 - val_loss: 0.2669 - val_acc: 0.9237\n",
      "Epoch 7/50\n",
      "469/469 [==============================] - 1s 1ms/step - loss: 0.2556 - acc: 0.9298 - val_loss: 0.2668 - val_acc: 0.9244\n",
      "Epoch 8/50\n",
      "469/469 [==============================] - 1s 1ms/step - loss: 0.2555 - acc: 0.9296 - val_loss: 0.2666 - val_acc: 0.9244\n",
      "Epoch 9/50\n",
      "469/469 [==============================] - 1s 1ms/step - loss: 0.2555 - acc: 0.9298 - val_loss: 0.2667 - val_acc: 0.9242\n",
      "Epoch 10/50\n",
      "469/469 [==============================] - 1s 1ms/step - loss: 0.2555 - acc: 0.9299 - val_loss: 0.2667 - val_acc: 0.9247\n",
      "Epoch 11/50\n",
      "469/469 [==============================] - 1s 1ms/step - loss: 0.2554 - acc: 0.9298 - val_loss: 0.2668 - val_acc: 0.9242\n",
      "Epoch 12/50\n",
      "469/469 [==============================] - 1s 1ms/step - loss: 0.2554 - acc: 0.9298 - val_loss: 0.2667 - val_acc: 0.9247\n",
      "Epoch 13/50\n",
      "469/469 [==============================] - 1s 1ms/step - loss: 0.2554 - acc: 0.9299 - val_loss: 0.2667 - val_acc: 0.9247\n",
      "Epoch 14/50\n",
      "469/469 [==============================] - 1s 1ms/step - loss: 0.2553 - acc: 0.9298 - val_loss: 0.2666 - val_acc: 0.9244\n",
      "Epoch 15/50\n",
      "469/469 [==============================] - 1s 1ms/step - loss: 0.2553 - acc: 0.9300 - val_loss: 0.2666 - val_acc: 0.9241\n",
      "Epoch 16/50\n",
      "469/469 [==============================] - 1s 1ms/step - loss: 0.2552 - acc: 0.9300 - val_loss: 0.2665 - val_acc: 0.9249\n",
      "Epoch 17/50\n",
      "469/469 [==============================] - 1s 1ms/step - loss: 0.2552 - acc: 0.9298 - val_loss: 0.2667 - val_acc: 0.9241\n",
      "Epoch 18/50\n",
      "469/469 [==============================] - 1s 1ms/step - loss: 0.2552 - acc: 0.9298 - val_loss: 0.2667 - val_acc: 0.9238\n",
      "Epoch 19/50\n",
      "469/469 [==============================] - 1s 1ms/step - loss: 0.2551 - acc: 0.9301 - val_loss: 0.2664 - val_acc: 0.9247\n",
      "Epoch 20/50\n",
      "469/469 [==============================] - 1s 1ms/step - loss: 0.2551 - acc: 0.9301 - val_loss: 0.2663 - val_acc: 0.9249\n",
      "Epoch 21/50\n",
      "469/469 [==============================] - 1s 1ms/step - loss: 0.2551 - acc: 0.9300 - val_loss: 0.2666 - val_acc: 0.9245\n",
      "Epoch 22/50\n",
      "469/469 [==============================] - 1s 1ms/step - loss: 0.2550 - acc: 0.9301 - val_loss: 0.2668 - val_acc: 0.9242\n",
      "Epoch 23/50\n",
      "469/469 [==============================] - 1s 1ms/step - loss: 0.2550 - acc: 0.9300 - val_loss: 0.2664 - val_acc: 0.9246\n",
      "Epoch 24/50\n",
      "469/469 [==============================] - 1s 1ms/step - loss: 0.2549 - acc: 0.9300 - val_loss: 0.2666 - val_acc: 0.9245\n",
      "Epoch 25/50\n",
      "469/469 [==============================] - 1s 1ms/step - loss: 0.2549 - acc: 0.9301 - val_loss: 0.2663 - val_acc: 0.9246\n",
      "Epoch 26/50\n",
      "469/469 [==============================] - 1s 1ms/step - loss: 0.2549 - acc: 0.9302 - val_loss: 0.2665 - val_acc: 0.9249\n",
      "Epoch 27/50\n",
      "469/469 [==============================] - 1s 1ms/step - loss: 0.2548 - acc: 0.9298 - val_loss: 0.2664 - val_acc: 0.9249\n",
      "Epoch 28/50\n",
      "469/469 [==============================] - 1s 1ms/step - loss: 0.2548 - acc: 0.9302 - val_loss: 0.2664 - val_acc: 0.9247\n",
      "Epoch 29/50\n",
      "469/469 [==============================] - 1s 1ms/step - loss: 0.2548 - acc: 0.9300 - val_loss: 0.2663 - val_acc: 0.9248\n",
      "Epoch 30/50\n",
      "469/469 [==============================] - 1s 1ms/step - loss: 0.2547 - acc: 0.9300 - val_loss: 0.2663 - val_acc: 0.9247\n",
      "Epoch 31/50\n",
      "469/469 [==============================] - 1s 1ms/step - loss: 0.2547 - acc: 0.9302 - val_loss: 0.2662 - val_acc: 0.9244\n",
      "Epoch 32/50\n",
      "469/469 [==============================] - 1s 1ms/step - loss: 0.2547 - acc: 0.9302 - val_loss: 0.2663 - val_acc: 0.9246\n",
      "Epoch 33/50\n",
      "469/469 [==============================] - 1s 1ms/step - loss: 0.2546 - acc: 0.9302 - val_loss: 0.2664 - val_acc: 0.9249\n",
      "Epoch 34/50\n",
      "469/469 [==============================] - 1s 1ms/step - loss: 0.2546 - acc: 0.9302 - val_loss: 0.2665 - val_acc: 0.9244\n",
      "Epoch 35/50\n",
      "469/469 [==============================] - 1s 1ms/step - loss: 0.2545 - acc: 0.9302 - val_loss: 0.2665 - val_acc: 0.9247\n",
      "Epoch 36/50\n",
      "469/469 [==============================] - 1s 1ms/step - loss: 0.2545 - acc: 0.9303 - val_loss: 0.2664 - val_acc: 0.9251\n",
      "Epoch 37/50\n",
      "469/469 [==============================] - 1s 1ms/step - loss: 0.2545 - acc: 0.9303 - val_loss: 0.2663 - val_acc: 0.9247\n",
      "Epoch 38/50\n",
      "469/469 [==============================] - 1s 1ms/step - loss: 0.2544 - acc: 0.9304 - val_loss: 0.2662 - val_acc: 0.9248\n",
      "Epoch 39/50\n",
      "469/469 [==============================] - 1s 1ms/step - loss: 0.2544 - acc: 0.9301 - val_loss: 0.2664 - val_acc: 0.9243\n",
      "Epoch 40/50\n",
      "469/469 [==============================] - 1s 1ms/step - loss: 0.2543 - acc: 0.9302 - val_loss: 0.2664 - val_acc: 0.9250\n",
      "Epoch 41/50\n",
      "469/469 [==============================] - 1s 1ms/step - loss: 0.2543 - acc: 0.9301 - val_loss: 0.2662 - val_acc: 0.9251\n",
      "Epoch 42/50\n",
      "469/469 [==============================] - 1s 1ms/step - loss: 0.2543 - acc: 0.9305 - val_loss: 0.2662 - val_acc: 0.9249\n",
      "Epoch 43/50\n",
      "469/469 [==============================] - 1s 1ms/step - loss: 0.2542 - acc: 0.9303 - val_loss: 0.2662 - val_acc: 0.9246\n",
      "Epoch 44/50\n",
      "469/469 [==============================] - 1s 1ms/step - loss: 0.2542 - acc: 0.9302 - val_loss: 0.2662 - val_acc: 0.9250\n",
      "Epoch 45/50\n",
      "469/469 [==============================] - 1s 1ms/step - loss: 0.2542 - acc: 0.9304 - val_loss: 0.2662 - val_acc: 0.9247\n",
      "Epoch 46/50\n",
      "469/469 [==============================] - 1s 1ms/step - loss: 0.2542 - acc: 0.9302 - val_loss: 0.2663 - val_acc: 0.9247\n",
      "Epoch 47/50\n",
      "469/469 [==============================] - 1s 1ms/step - loss: 0.2541 - acc: 0.9302 - val_loss: 0.2663 - val_acc: 0.9246\n",
      "Epoch 48/50\n",
      "469/469 [==============================] - 1s 1ms/step - loss: 0.2541 - acc: 0.9304 - val_loss: 0.2663 - val_acc: 0.9249\n",
      "Epoch 49/50\n",
      "469/469 [==============================] - 1s 1ms/step - loss: 0.2541 - acc: 0.9303 - val_loss: 0.2664 - val_acc: 0.9245\n",
      "Epoch 50/50\n",
      "469/469 [==============================] - 1s 1ms/step - loss: 0.2540 - acc: 0.9305 - val_loss: 0.2664 - val_acc: 0.9242\n"
     ]
    }
   ],
   "source": [
    "model.compile(optimizer='sgd',loss='categorical_crossentropy',metrics=['acc'])\n",
    "hist = model.fit(x_train,y_train_onehot,validation_data=(x_test,y_test_onehot), epochs=50,batch_size=128)"
   ]
  },
  {
   "cell_type": "markdown",
   "metadata": {},
   "source": [
    "In addition to using new accuracy metrics, we have specified `batch_size` parameter to define the number of samples that are being processed by the neural network at once. Since GPU computations are easily parallelizable, it is much more efficient to process several samples in one go. Larger minibatch size significantly speeds up learning process, but also makes it a little bit less precise. This is due to the fact that the direction of optimization is selected for the whole minibatch, and not for each individual sample. Thus, choosing minibatch size is quite tricky, and it remains one of the hyperparameters that can be further optimized to achieve better performance. \n",
    "\n",
    "## Specifying Optimizer Parameters\n",
    "\n",
    "In the previous call to `compile`, we have been specifying optimizer, loss and metrics using keyword abbreviations, such as `sgd`. However, sometimes we might want to do some fine-tuning to optimizer parameters, or use custom loss function. In such cases, it is possible to pass objects instead of string abbreviations.\n",
    "\n",
    "Let's use a variation of stochastic gradient descent, which is called **momentum SGD**. The idea is that the gradients of loss function will be averaged over the last few steps in order to keep the momentum, and make optimization more smooth. To turn our gradient descent into momentum SGD, we need to create `SDG` optimizer object explicitly, provide `momentum` parameter, and pass this object to `compile` method."
   ]
  },
  {
   "cell_type": "code",
   "execution_count": 21,
   "metadata": {},
   "outputs": [
    {
     "name": "stdout",
     "output_type": "stream",
     "text": [
      "Epoch 1/50\n"
     ]
    },
    {
     "name": "stdout",
     "output_type": "stream",
     "text": [
      "938/938 [==============================] - 1s 1ms/step - loss: 0.7697 - acc: 0.8190 - val_loss: 0.4810 - val_acc: 0.8790\n",
      "Epoch 2/50\n",
      "938/938 [==============================] - 1s 1ms/step - loss: 0.4561 - acc: 0.8805 - val_loss: 0.4002 - val_acc: 0.8924\n",
      "Epoch 3/50\n",
      "938/938 [==============================] - 1s 1ms/step - loss: 0.4034 - acc: 0.8906 - val_loss: 0.3682 - val_acc: 0.8999\n",
      "Epoch 4/50\n",
      "938/938 [==============================] - 1s 1ms/step - loss: 0.3770 - acc: 0.8967 - val_loss: 0.3488 - val_acc: 0.9051\n",
      "Epoch 5/50\n",
      "938/938 [==============================] - 1s 1ms/step - loss: 0.3603 - acc: 0.9007 - val_loss: 0.3367 - val_acc: 0.9070\n",
      "Epoch 6/50\n",
      "938/938 [==============================] - 1s 1ms/step - loss: 0.3484 - acc: 0.9035 - val_loss: 0.3278 - val_acc: 0.9089\n",
      "Epoch 7/50\n",
      "938/938 [==============================] - 1s 1ms/step - loss: 0.3394 - acc: 0.9056 - val_loss: 0.3210 - val_acc: 0.9105\n",
      "Epoch 8/50\n",
      "938/938 [==============================] - 1s 1ms/step - loss: 0.3324 - acc: 0.9074 - val_loss: 0.3142 - val_acc: 0.9135\n",
      "Epoch 9/50\n",
      "938/938 [==============================] - 1s 1ms/step - loss: 0.3264 - acc: 0.9092 - val_loss: 0.3103 - val_acc: 0.9127\n",
      "Epoch 10/50\n",
      "938/938 [==============================] - 1s 1ms/step - loss: 0.3216 - acc: 0.9104 - val_loss: 0.3065 - val_acc: 0.9149\n",
      "Epoch 11/50\n",
      "938/938 [==============================] - 1s 1ms/step - loss: 0.3174 - acc: 0.9117 - val_loss: 0.3034 - val_acc: 0.9165\n",
      "Epoch 12/50\n",
      "938/938 [==============================] - 1s 1ms/step - loss: 0.3135 - acc: 0.9129 - val_loss: 0.3005 - val_acc: 0.9162\n",
      "Epoch 13/50\n",
      "938/938 [==============================] - 1s 1ms/step - loss: 0.3104 - acc: 0.9136 - val_loss: 0.2988 - val_acc: 0.9169\n",
      "Epoch 14/50\n",
      "938/938 [==============================] - 1s 1ms/step - loss: 0.3075 - acc: 0.9143 - val_loss: 0.2964 - val_acc: 0.9187\n",
      "Epoch 15/50\n",
      "938/938 [==============================] - 1s 1ms/step - loss: 0.3049 - acc: 0.9153 - val_loss: 0.2947 - val_acc: 0.9197\n",
      "Epoch 16/50\n",
      "938/938 [==============================] - 1s 1ms/step - loss: 0.3026 - acc: 0.9161 - val_loss: 0.2922 - val_acc: 0.9190\n",
      "Epoch 17/50\n",
      "938/938 [==============================] - 1s 1ms/step - loss: 0.3006 - acc: 0.9165 - val_loss: 0.2910 - val_acc: 0.9194\n",
      "Epoch 18/50\n",
      "938/938 [==============================] - 1s 1ms/step - loss: 0.2987 - acc: 0.9175 - val_loss: 0.2895 - val_acc: 0.9195\n",
      "Epoch 19/50\n",
      "938/938 [==============================] - 1s 1ms/step - loss: 0.2968 - acc: 0.9176 - val_loss: 0.2881 - val_acc: 0.9195\n",
      "Epoch 20/50\n",
      "938/938 [==============================] - 1s 1ms/step - loss: 0.2952 - acc: 0.9180 - val_loss: 0.2874 - val_acc: 0.9206\n",
      "Epoch 21/50\n",
      "938/938 [==============================] - 1s 1ms/step - loss: 0.2937 - acc: 0.9185 - val_loss: 0.2864 - val_acc: 0.9196\n",
      "Epoch 22/50\n",
      "938/938 [==============================] - 1s 1ms/step - loss: 0.2922 - acc: 0.9187 - val_loss: 0.2851 - val_acc: 0.9197\n",
      "Epoch 23/50\n",
      "938/938 [==============================] - 1s 1ms/step - loss: 0.2908 - acc: 0.9188 - val_loss: 0.2853 - val_acc: 0.9201\n",
      "Epoch 24/50\n",
      "938/938 [==============================] - 1s 1ms/step - loss: 0.2896 - acc: 0.9196 - val_loss: 0.2833 - val_acc: 0.9206\n",
      "Epoch 25/50\n",
      "938/938 [==============================] - 1s 1ms/step - loss: 0.2884 - acc: 0.9197 - val_loss: 0.2832 - val_acc: 0.9210\n",
      "Epoch 26/50\n",
      "938/938 [==============================] - 1s 1ms/step - loss: 0.2872 - acc: 0.9201 - val_loss: 0.2819 - val_acc: 0.9209\n",
      "Epoch 27/50\n",
      "938/938 [==============================] - 1s 1ms/step - loss: 0.2862 - acc: 0.9203 - val_loss: 0.2812 - val_acc: 0.9215\n",
      "Epoch 28/50\n",
      "938/938 [==============================] - 1s 1ms/step - loss: 0.2852 - acc: 0.9206 - val_loss: 0.2811 - val_acc: 0.9218\n",
      "Epoch 29/50\n",
      "938/938 [==============================] - 1s 1ms/step - loss: 0.2842 - acc: 0.9208 - val_loss: 0.2802 - val_acc: 0.9219\n",
      "Epoch 30/50\n",
      "938/938 [==============================] - 1s 1ms/step - loss: 0.2834 - acc: 0.9208 - val_loss: 0.2794 - val_acc: 0.9215\n",
      "Epoch 31/50\n",
      "938/938 [==============================] - 1s 1ms/step - loss: 0.2825 - acc: 0.9213 - val_loss: 0.2794 - val_acc: 0.9219\n",
      "Epoch 32/50\n",
      "938/938 [==============================] - 1s 1ms/step - loss: 0.2816 - acc: 0.9215 - val_loss: 0.2788 - val_acc: 0.9220\n",
      "Epoch 33/50\n",
      "938/938 [==============================] - 1s 1ms/step - loss: 0.2808 - acc: 0.9222 - val_loss: 0.2791 - val_acc: 0.9227\n",
      "Epoch 34/50\n",
      "938/938 [==============================] - 1s 1ms/step - loss: 0.2801 - acc: 0.9222 - val_loss: 0.2783 - val_acc: 0.9222\n",
      "Epoch 35/50\n",
      "938/938 [==============================] - 1s 1ms/step - loss: 0.2794 - acc: 0.9223 - val_loss: 0.2777 - val_acc: 0.9219\n",
      "Epoch 36/50\n",
      "938/938 [==============================] - 1s 1ms/step - loss: 0.2787 - acc: 0.9223 - val_loss: 0.2773 - val_acc: 0.9224\n",
      "Epoch 37/50\n",
      "938/938 [==============================] - 1s 1ms/step - loss: 0.2780 - acc: 0.9229 - val_loss: 0.2764 - val_acc: 0.9229\n",
      "Epoch 38/50\n",
      "938/938 [==============================] - 1s 1ms/step - loss: 0.2774 - acc: 0.9229 - val_loss: 0.2756 - val_acc: 0.9226\n",
      "Epoch 39/50\n",
      "938/938 [==============================] - 1s 1ms/step - loss: 0.2768 - acc: 0.9233 - val_loss: 0.2763 - val_acc: 0.9217\n",
      "Epoch 40/50\n",
      "938/938 [==============================] - 1s 1ms/step - loss: 0.2762 - acc: 0.9235 - val_loss: 0.2755 - val_acc: 0.9222\n",
      "Epoch 41/50\n",
      "938/938 [==============================] - 1s 1ms/step - loss: 0.2756 - acc: 0.9236 - val_loss: 0.2762 - val_acc: 0.9226\n",
      "Epoch 42/50\n",
      "938/938 [==============================] - 1s 1ms/step - loss: 0.2750 - acc: 0.9239 - val_loss: 0.2752 - val_acc: 0.9219\n",
      "Epoch 43/50\n",
      "938/938 [==============================] - 1s 1ms/step - loss: 0.2745 - acc: 0.9238 - val_loss: 0.2745 - val_acc: 0.9231\n",
      "Epoch 44/50\n",
      "938/938 [==============================] - 1s 1ms/step - loss: 0.2740 - acc: 0.9243 - val_loss: 0.2742 - val_acc: 0.9221\n",
      "Epoch 45/50\n",
      "938/938 [==============================] - 1s 1ms/step - loss: 0.2734 - acc: 0.9242 - val_loss: 0.2741 - val_acc: 0.9228\n",
      "Epoch 46/50\n",
      "938/938 [==============================] - 1s 1ms/step - loss: 0.2729 - acc: 0.9240 - val_loss: 0.2738 - val_acc: 0.9231\n",
      "Epoch 47/50\n",
      "938/938 [==============================] - 1s 1ms/step - loss: 0.2724 - acc: 0.9246 - val_loss: 0.2736 - val_acc: 0.9239\n",
      "Epoch 48/50\n",
      "938/938 [==============================] - 1s 1ms/step - loss: 0.2720 - acc: 0.9248 - val_loss: 0.2735 - val_acc: 0.9225\n",
      "Epoch 49/50\n",
      "938/938 [==============================] - 1s 1ms/step - loss: 0.2716 - acc: 0.9251 - val_loss: 0.2730 - val_acc: 0.9236\n",
      "Epoch 50/50\n",
      "938/938 [==============================] - 1s 1ms/step - loss: 0.2712 - acc: 0.9248 - val_loss: 0.2733 - val_acc: 0.9230\n"
     ]
    }
   ],
   "source": [
    "model = keras.models.Sequential([\n",
    "        keras.layers.Flatten(input_shape=(28,28)), \n",
    "        keras.layers.Dense(10,activation='softmax')])\n",
    "model.compile(optimizer=keras.optimizers.SGD(momentum=0.5),loss='categorical_crossentropy',metrics=['acc'])\n",
    "hist = model.fit(x_train,y_train_onehot,validation_data=(x_test,y_test_onehot), epochs=50, batch_size=64)  "
   ]
  },
  {
   "cell_type": "code",
   "execution_count": 24,
   "metadata": {},
   "outputs": [
    {
     "data": {
      "text/plain": [
       "<matplotlib.legend.Legend at 0x7f5bf2524fa0>"
      ]
     },
     "execution_count": 24,
     "metadata": {},
     "output_type": "execute_result"
    },
    {
     "data": {
      "image/png": "[encoded data removed]",
      "text/plain": [
       "<Figure size 640x480 with 1 Axes>"
      ]
     },
     "metadata": {},
     "output_type": "display_data"
    }
   ],
   "source": [
    "for x in ['acc','val_acc']:\n",
    "    plt.plot(hist.history[x], label=x)\n",
    "plt.legend()"
   ]
  },
  {
   "cell_type": "markdown",
   "metadata": {},
   "source": [
    "## Visualizing network weights\n",
    "\n",
    "Now let's visualize the weights of our neural network and see what they look like. When the network is more complex than just one layer, making sense of the weight data is more difficult. However, in this example of classifying a digit in a one-layered perceptron happens by multiplying the initial image by a weight matrix, which allows us to visualize the network weights and see if they make any sense.\n",
    "\n",
    "Let's create a `weight_tensor` which will have a dimension of 784x10. This tensor can be obtained by calling the `net.parameters()` method. In this example, if we want to see if our number is 0 or not, we will multiply input digit by `weight_tensor[0]` and pass the result through a softmax normalization to get the answer. This results in the weight tensor elements somewhat resembling the average shape of the digit it classifies:"
   ]
  },
  {
   "cell_type": "code",
   "execution_count": 31,
   "metadata": {},
   "outputs": [
    {
     "data": {
      "image/png": "[encoded data removed]",
      "text/plain": [
       "<Figure size 1500x400 with 10 Axes>"
      ]
     },
     "metadata": {},
     "output_type": "display_data"
    }
   ],
   "source": [
    "weight_tensor = model.layers[1].weights[0].numpy().reshape(28,28,10)\n",
    "fig,ax = plt.subplots(1,10,figsize=(15,4))\n",
    "for i in range(10):\n",
    "    ax[i].imshow(weight_tensor[:,:,i], cmap='gray')\n",
    "    ax[i].axis('off')"
   ]
  },
  {
   "cell_type": "markdown",
   "metadata": {},
   "source": [
    "Bora testar numa image só de zoas aqui, ver se funciona mesmo"
   ]
  },
  {
   "cell_type": "code",
   "execution_count": 42,
   "metadata": {},
   "outputs": [
    {
     "name": "stdout",
     "output_type": "stream",
     "text": [
      "(10000, 28, 28)\n",
      "1/1 [==============================] - 0s 12ms/step\n",
      "The predicted class is: 7\n",
      "Actually, it is a: 7\n"
     ]
    },
    {
     "data": {
      "text/plain": [
       "<matplotlib.image.AxesImage at 0x7f5bf3689240>"
      ]
     },
     "execution_count": 42,
     "metadata": {},
     "output_type": "execute_result"
    },
    {
     "data": {
      "image/png": "[encoded data removed]",
      "text/plain": [
       "<Figure size 640x480 with 1 Axes>"
      ]
     },
     "metadata": {},
     "output_type": "display_data"
    }
   ],
   "source": [
    "# Let's assume `single_image` is your test image and it's a numpy array with shape (28, 28)\n",
    "single_image = x_test[0]\n",
    "print(x_test.shape)\n",
    "single_image = single_image.reshape(1, 28, 28)\n",
    "\n",
    "# Now, you can use the model to predict the class of the single image\n",
    "predictions = model.predict(single_image)\n",
    "\n",
    "# The output `predictions` is a 2D array with shape (1, 10), where 10 is the number of classes.\n",
    "# Each value in `predictions[0]` is the model's confidence that the image belongs to that class.\n",
    "# You can get the predicted class by finding the index of the maximum value.\n",
    "predicted_class = np.argmax(predictions[0])\n",
    "\n",
    "print(\"The predicted class is:\", predicted_class)\n",
    "print(\"Actually, it is a:\", y_test[0])\n",
    "fig,ax = plt.subplots(1,1)\n",
    "ax.imshow(x_test[0], cmap='gray')"
   ]
  },
  {
   "cell_type": "markdown",
   "metadata": {},
   "source": [
    "## Takeaway \n",
    "\n",
    "Training a neural network in Keras requires just one line of code and tweaking a few parameters. We can see that a single-layer dense neural network shows relatively good performance, but we definitely want to get higher than 91% on accuracy! In the next unit, we will try to use multi-level perceptrons."
   ]
  }
 ],
 "metadata": {
  "kernelspec": {
   "display_name": "Python 3",
   "language": "python",
   "name": "python3"
  },
  "language_info": {
   "codemirror_mode": {
    "name": "ipython",
    "version": 3
   },
   "file_extension": ".py",
   "mimetype": "text/x-python",
   "name": "python",
   "nbconvert_exporter": "python",
   "pygments_lexer": "ipython3",
   "version": "3.10.13"
  }
 },
 "nbformat": 4,
 "nbformat_minor": 2
}
